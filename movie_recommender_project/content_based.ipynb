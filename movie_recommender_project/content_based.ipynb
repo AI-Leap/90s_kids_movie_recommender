{
 "cells": [
  {
   "cell_type": "code",
   "execution_count": 1,
   "metadata": {
    "colab": {
     "base_uri": "https://localhost:8080/"
    },
    "executionInfo": {
     "elapsed": 565,
     "status": "ok",
     "timestamp": 1626076898056,
     "user": {
      "displayName": "Phoo Ngone Linn",
      "photoUrl": "",
      "userId": "08553023850270904612"
     },
     "user_tz": -390
    },
    "id": "qlwbzfkRlNFp",
    "outputId": "79ea7b3c-b7f0-4086-819d-9362f50cf006"
   },
   "outputs": [
    {
     "name": "stdout",
     "output_type": "stream",
     "text": [
      "Drive already mounted at /content/drive; to attempt to forcibly remount, call drive.mount(\"/content/drive\", force_remount=True).\n"
     ]
    }
   ],
   "source": [
    "# from google.colab import drive\n",
    "# drive.mount('/content/drive')"
   ]
  },
  {
   "cell_type": "code",
   "execution_count": 1,
   "metadata": {
    "executionInfo": {
     "elapsed": 1515,
     "status": "ok",
     "timestamp": 1626076904954,
     "user": {
      "displayName": "Phoo Ngone Linn",
      "photoUrl": "",
      "userId": "08553023850270904612"
     },
     "user_tz": -390
    },
    "id": "kDV74CkRllzE"
   },
   "outputs": [],
   "source": [
    "import pandas as pd\n",
    "import numpy as np\n",
    "import matplotlib.pyplot as plt\n",
    "import pickle\n",
    "\n",
    "from sklearn.feature_extraction.text import TfidfVectorizer\n",
    "from sklearn.metrics.pairwise import sigmoid_kernel\n",
    "\n",
    "import pickle\n",
    "\n",
    "%matplotlib inline"
   ]
  },
  {
   "cell_type": "code",
   "execution_count": 3,
   "metadata": {
    "executionInfo": {
     "elapsed": 21887,
     "status": "ok",
     "timestamp": 1626076926836,
     "user": {
      "displayName": "Phoo Ngone Linn",
      "photoUrl": "",
      "userId": "08553023850270904612"
     },
     "user_tz": -390
    },
    "id": "pU3Kf5hsl-Iq"
   },
   "outputs": [],
   "source": [
    "df_movies = pd.read_csv('../movies_lens/movie.csv')\n",
    "df_ratings =  pd.read_csv('../movies_lens/rating.csv')\n",
    "\n",
    "df_links =  pd.read_csv('../movies_lens/link.csv')"
   ]
  },
  {
   "cell_type": "code",
   "execution_count": 4,
   "metadata": {
    "executionInfo": {
     "elapsed": 676,
     "status": "ok",
     "timestamp": 1626076927478,
     "user": {
      "displayName": "Phoo Ngone Linn",
      "photoUrl": "",
      "userId": "08553023850270904612"
     },
     "user_tz": -390
    },
    "id": "LZcLDhqxUGlS"
   },
   "outputs": [],
   "source": [
    "df_tags =  pd.read_csv'../movies_lens/tag.csv')"
   ]
  },
  {
   "cell_type": "code",
   "execution_count": 2,
   "metadata": {
    "executionInfo": {
     "elapsed": 6240,
     "status": "ok",
     "timestamp": 1626076933712,
     "user": {
      "displayName": "Phoo Ngone Linn",
      "photoUrl": "",
      "userId": "08553023850270904612"
     },
     "user_tz": -390
    },
    "id": "cwsM-uxTnfX7"
   },
   "outputs": [],
   "source": [
    "df_genome_scores = pd.read_csv('../movies_lens/genome_scores.csv')\n",
    "df_genome_tags = pd.read_csv('../movies_lens/genome_tags.csv')"
   ]
  },
  {
   "cell_type": "code",
   "execution_count": 6,
   "metadata": {
    "colab": {
     "base_uri": "https://localhost:8080/",
     "height": 204
    },
    "executionInfo": {
     "elapsed": 78,
     "status": "ok",
     "timestamp": 1626076933713,
     "user": {
      "displayName": "Phoo Ngone Linn",
      "photoUrl": "",
      "userId": "08553023850270904612"
     },
     "user_tz": -390
    },
    "id": "cwQoViTbmGcr",
    "outputId": "c2452fce-0771-4b21-ea93-4bf3946d59eb"
   },
   "outputs": [
    {
     "data": {
      "text/html": [
       "<div>\n",
       "<style scoped>\n",
       "    .dataframe tbody tr th:only-of-type {\n",
       "        vertical-align: middle;\n",
       "    }\n",
       "\n",
       "    .dataframe tbody tr th {\n",
       "        vertical-align: top;\n",
       "    }\n",
       "\n",
       "    .dataframe thead th {\n",
       "        text-align: right;\n",
       "    }\n",
       "</style>\n",
       "<table border=\"1\" class=\"dataframe\">\n",
       "  <thead>\n",
       "    <tr style=\"text-align: right;\">\n",
       "      <th></th>\n",
       "      <th>movieId</th>\n",
       "      <th>title</th>\n",
       "      <th>genres</th>\n",
       "    </tr>\n",
       "  </thead>\n",
       "  <tbody>\n",
       "    <tr>\n",
       "      <th>0</th>\n",
       "      <td>1</td>\n",
       "      <td>Toy Story (1995)</td>\n",
       "      <td>Adventure|Animation|Children|Comedy|Fantasy</td>\n",
       "    </tr>\n",
       "    <tr>\n",
       "      <th>1</th>\n",
       "      <td>2</td>\n",
       "      <td>Jumanji (1995)</td>\n",
       "      <td>Adventure|Children|Fantasy</td>\n",
       "    </tr>\n",
       "    <tr>\n",
       "      <th>2</th>\n",
       "      <td>3</td>\n",
       "      <td>Grumpier Old Men (1995)</td>\n",
       "      <td>Comedy|Romance</td>\n",
       "    </tr>\n",
       "    <tr>\n",
       "      <th>3</th>\n",
       "      <td>4</td>\n",
       "      <td>Waiting to Exhale (1995)</td>\n",
       "      <td>Comedy|Drama|Romance</td>\n",
       "    </tr>\n",
       "    <tr>\n",
       "      <th>4</th>\n",
       "      <td>5</td>\n",
       "      <td>Father of the Bride Part II (1995)</td>\n",
       "      <td>Comedy</td>\n",
       "    </tr>\n",
       "  </tbody>\n",
       "</table>\n",
       "</div>"
      ],
      "text/plain": [
       "   movieId  ...                                       genres\n",
       "0        1  ...  Adventure|Animation|Children|Comedy|Fantasy\n",
       "1        2  ...                   Adventure|Children|Fantasy\n",
       "2        3  ...                               Comedy|Romance\n",
       "3        4  ...                         Comedy|Drama|Romance\n",
       "4        5  ...                                       Comedy\n",
       "\n",
       "[5 rows x 3 columns]"
      ]
     },
     "execution_count": 6,
     "metadata": {
      "tags": []
     },
     "output_type": "execute_result"
    }
   ],
   "source": [
    "df_movies.head()"
   ]
  },
  {
   "cell_type": "code",
   "execution_count": 7,
   "metadata": {
    "colab": {
     "base_uri": "https://localhost:8080/",
     "height": 204
    },
    "executionInfo": {
     "elapsed": 75,
     "status": "ok",
     "timestamp": 1626076933714,
     "user": {
      "displayName": "Phoo Ngone Linn",
      "photoUrl": "",
      "userId": "08553023850270904612"
     },
     "user_tz": -390
    },
    "id": "lc_W6MqmmNUn",
    "outputId": "f5f007d1-ea86-4699-c4a5-6cf7ce05fea9"
   },
   "outputs": [
    {
     "data": {
      "text/html": [
       "<div>\n",
       "<style scoped>\n",
       "    .dataframe tbody tr th:only-of-type {\n",
       "        vertical-align: middle;\n",
       "    }\n",
       "\n",
       "    .dataframe tbody tr th {\n",
       "        vertical-align: top;\n",
       "    }\n",
       "\n",
       "    .dataframe thead th {\n",
       "        text-align: right;\n",
       "    }\n",
       "</style>\n",
       "<table border=\"1\" class=\"dataframe\">\n",
       "  <thead>\n",
       "    <tr style=\"text-align: right;\">\n",
       "      <th></th>\n",
       "      <th>userId</th>\n",
       "      <th>movieId</th>\n",
       "      <th>rating</th>\n",
       "      <th>timestamp</th>\n",
       "    </tr>\n",
       "  </thead>\n",
       "  <tbody>\n",
       "    <tr>\n",
       "      <th>0</th>\n",
       "      <td>1</td>\n",
       "      <td>2</td>\n",
       "      <td>3.5</td>\n",
       "      <td>2005-04-02 23:53:47</td>\n",
       "    </tr>\n",
       "    <tr>\n",
       "      <th>1</th>\n",
       "      <td>1</td>\n",
       "      <td>29</td>\n",
       "      <td>3.5</td>\n",
       "      <td>2005-04-02 23:31:16</td>\n",
       "    </tr>\n",
       "    <tr>\n",
       "      <th>2</th>\n",
       "      <td>1</td>\n",
       "      <td>32</td>\n",
       "      <td>3.5</td>\n",
       "      <td>2005-04-02 23:33:39</td>\n",
       "    </tr>\n",
       "    <tr>\n",
       "      <th>3</th>\n",
       "      <td>1</td>\n",
       "      <td>47</td>\n",
       "      <td>3.5</td>\n",
       "      <td>2005-04-02 23:32:07</td>\n",
       "    </tr>\n",
       "    <tr>\n",
       "      <th>4</th>\n",
       "      <td>1</td>\n",
       "      <td>50</td>\n",
       "      <td>3.5</td>\n",
       "      <td>2005-04-02 23:29:40</td>\n",
       "    </tr>\n",
       "  </tbody>\n",
       "</table>\n",
       "</div>"
      ],
      "text/plain": [
       "   userId  movieId  rating            timestamp\n",
       "0       1        2     3.5  2005-04-02 23:53:47\n",
       "1       1       29     3.5  2005-04-02 23:31:16\n",
       "2       1       32     3.5  2005-04-02 23:33:39\n",
       "3       1       47     3.5  2005-04-02 23:32:07\n",
       "4       1       50     3.5  2005-04-02 23:29:40"
      ]
     },
     "execution_count": 7,
     "metadata": {
      "tags": []
     },
     "output_type": "execute_result"
    }
   ],
   "source": [
    "df_ratings.head()"
   ]
  },
  {
   "cell_type": "code",
   "execution_count": 8,
   "metadata": {
    "colab": {
     "base_uri": "https://localhost:8080/",
     "height": 204
    },
    "executionInfo": {
     "elapsed": 72,
     "status": "ok",
     "timestamp": 1626076933715,
     "user": {
      "displayName": "Phoo Ngone Linn",
      "photoUrl": "",
      "userId": "08553023850270904612"
     },
     "user_tz": -390
    },
    "id": "A53New3enSv-",
    "outputId": "8a464907-3dbd-45b4-c46c-4909d246d64d"
   },
   "outputs": [
    {
     "data": {
      "text/html": [
       "<div>\n",
       "<style scoped>\n",
       "    .dataframe tbody tr th:only-of-type {\n",
       "        vertical-align: middle;\n",
       "    }\n",
       "\n",
       "    .dataframe tbody tr th {\n",
       "        vertical-align: top;\n",
       "    }\n",
       "\n",
       "    .dataframe thead th {\n",
       "        text-align: right;\n",
       "    }\n",
       "</style>\n",
       "<table border=\"1\" class=\"dataframe\">\n",
       "  <thead>\n",
       "    <tr style=\"text-align: right;\">\n",
       "      <th></th>\n",
       "      <th>userId</th>\n",
       "      <th>movieId</th>\n",
       "      <th>tag</th>\n",
       "      <th>timestamp</th>\n",
       "    </tr>\n",
       "  </thead>\n",
       "  <tbody>\n",
       "    <tr>\n",
       "      <th>0</th>\n",
       "      <td>18</td>\n",
       "      <td>4141</td>\n",
       "      <td>Mark Waters</td>\n",
       "      <td>2009-04-24 18:19:40</td>\n",
       "    </tr>\n",
       "    <tr>\n",
       "      <th>1</th>\n",
       "      <td>65</td>\n",
       "      <td>208</td>\n",
       "      <td>dark hero</td>\n",
       "      <td>2013-05-10 01:41:18</td>\n",
       "    </tr>\n",
       "    <tr>\n",
       "      <th>2</th>\n",
       "      <td>65</td>\n",
       "      <td>353</td>\n",
       "      <td>dark hero</td>\n",
       "      <td>2013-05-10 01:41:19</td>\n",
       "    </tr>\n",
       "    <tr>\n",
       "      <th>3</th>\n",
       "      <td>65</td>\n",
       "      <td>521</td>\n",
       "      <td>noir thriller</td>\n",
       "      <td>2013-05-10 01:39:43</td>\n",
       "    </tr>\n",
       "    <tr>\n",
       "      <th>4</th>\n",
       "      <td>65</td>\n",
       "      <td>592</td>\n",
       "      <td>dark hero</td>\n",
       "      <td>2013-05-10 01:41:18</td>\n",
       "    </tr>\n",
       "  </tbody>\n",
       "</table>\n",
       "</div>"
      ],
      "text/plain": [
       "   userId  movieId            tag            timestamp\n",
       "0      18     4141    Mark Waters  2009-04-24 18:19:40\n",
       "1      65      208      dark hero  2013-05-10 01:41:18\n",
       "2      65      353      dark hero  2013-05-10 01:41:19\n",
       "3      65      521  noir thriller  2013-05-10 01:39:43\n",
       "4      65      592      dark hero  2013-05-10 01:41:18"
      ]
     },
     "execution_count": 8,
     "metadata": {
      "tags": []
     },
     "output_type": "execute_result"
    }
   ],
   "source": [
    "df_tags.head()"
   ]
  },
  {
   "cell_type": "code",
   "execution_count": 9,
   "metadata": {
    "colab": {
     "base_uri": "https://localhost:8080/",
     "height": 204
    },
    "executionInfo": {
     "elapsed": 70,
     "status": "ok",
     "timestamp": 1626076933715,
     "user": {
      "displayName": "Phoo Ngone Linn",
      "photoUrl": "",
      "userId": "08553023850270904612"
     },
     "user_tz": -390
    },
    "id": "ZbDQdu9JnVED",
    "outputId": "a29fc8d9-a12c-4189-a470-4e170de9e6b0"
   },
   "outputs": [
    {
     "data": {
      "text/html": [
       "<div>\n",
       "<style scoped>\n",
       "    .dataframe tbody tr th:only-of-type {\n",
       "        vertical-align: middle;\n",
       "    }\n",
       "\n",
       "    .dataframe tbody tr th {\n",
       "        vertical-align: top;\n",
       "    }\n",
       "\n",
       "    .dataframe thead th {\n",
       "        text-align: right;\n",
       "    }\n",
       "</style>\n",
       "<table border=\"1\" class=\"dataframe\">\n",
       "  <thead>\n",
       "    <tr style=\"text-align: right;\">\n",
       "      <th></th>\n",
       "      <th>movieId</th>\n",
       "      <th>imdbId</th>\n",
       "      <th>tmdbId</th>\n",
       "    </tr>\n",
       "  </thead>\n",
       "  <tbody>\n",
       "    <tr>\n",
       "      <th>0</th>\n",
       "      <td>1</td>\n",
       "      <td>114709</td>\n",
       "      <td>862.0</td>\n",
       "    </tr>\n",
       "    <tr>\n",
       "      <th>1</th>\n",
       "      <td>2</td>\n",
       "      <td>113497</td>\n",
       "      <td>8844.0</td>\n",
       "    </tr>\n",
       "    <tr>\n",
       "      <th>2</th>\n",
       "      <td>3</td>\n",
       "      <td>113228</td>\n",
       "      <td>15602.0</td>\n",
       "    </tr>\n",
       "    <tr>\n",
       "      <th>3</th>\n",
       "      <td>4</td>\n",
       "      <td>114885</td>\n",
       "      <td>31357.0</td>\n",
       "    </tr>\n",
       "    <tr>\n",
       "      <th>4</th>\n",
       "      <td>5</td>\n",
       "      <td>113041</td>\n",
       "      <td>11862.0</td>\n",
       "    </tr>\n",
       "  </tbody>\n",
       "</table>\n",
       "</div>"
      ],
      "text/plain": [
       "   movieId  imdbId   tmdbId\n",
       "0        1  114709    862.0\n",
       "1        2  113497   8844.0\n",
       "2        3  113228  15602.0\n",
       "3        4  114885  31357.0\n",
       "4        5  113041  11862.0"
      ]
     },
     "execution_count": 9,
     "metadata": {
      "tags": []
     },
     "output_type": "execute_result"
    }
   ],
   "source": [
    "df_links.head()"
   ]
  },
  {
   "cell_type": "code",
   "execution_count": 10,
   "metadata": {
    "colab": {
     "base_uri": "https://localhost:8080/",
     "height": 204
    },
    "executionInfo": {
     "elapsed": 68,
     "status": "ok",
     "timestamp": 1626076933716,
     "user": {
      "displayName": "Phoo Ngone Linn",
      "photoUrl": "",
      "userId": "08553023850270904612"
     },
     "user_tz": -390
    },
    "id": "mkilqWAJnWcT",
    "outputId": "27d1dda0-9b9f-4b55-95c2-7dbb8487cd73"
   },
   "outputs": [
    {
     "data": {
      "text/html": [
       "<div>\n",
       "<style scoped>\n",
       "    .dataframe tbody tr th:only-of-type {\n",
       "        vertical-align: middle;\n",
       "    }\n",
       "\n",
       "    .dataframe tbody tr th {\n",
       "        vertical-align: top;\n",
       "    }\n",
       "\n",
       "    .dataframe thead th {\n",
       "        text-align: right;\n",
       "    }\n",
       "</style>\n",
       "<table border=\"1\" class=\"dataframe\">\n",
       "  <thead>\n",
       "    <tr style=\"text-align: right;\">\n",
       "      <th></th>\n",
       "      <th>movieId</th>\n",
       "      <th>tagId</th>\n",
       "      <th>relevance</th>\n",
       "    </tr>\n",
       "  </thead>\n",
       "  <tbody>\n",
       "    <tr>\n",
       "      <th>0</th>\n",
       "      <td>1</td>\n",
       "      <td>1</td>\n",
       "      <td>0.02500</td>\n",
       "    </tr>\n",
       "    <tr>\n",
       "      <th>1</th>\n",
       "      <td>1</td>\n",
       "      <td>2</td>\n",
       "      <td>0.02500</td>\n",
       "    </tr>\n",
       "    <tr>\n",
       "      <th>2</th>\n",
       "      <td>1</td>\n",
       "      <td>3</td>\n",
       "      <td>0.05775</td>\n",
       "    </tr>\n",
       "    <tr>\n",
       "      <th>3</th>\n",
       "      <td>1</td>\n",
       "      <td>4</td>\n",
       "      <td>0.09675</td>\n",
       "    </tr>\n",
       "    <tr>\n",
       "      <th>4</th>\n",
       "      <td>1</td>\n",
       "      <td>5</td>\n",
       "      <td>0.14675</td>\n",
       "    </tr>\n",
       "  </tbody>\n",
       "</table>\n",
       "</div>"
      ],
      "text/plain": [
       "   movieId  tagId  relevance\n",
       "0        1      1    0.02500\n",
       "1        1      2    0.02500\n",
       "2        1      3    0.05775\n",
       "3        1      4    0.09675\n",
       "4        1      5    0.14675"
      ]
     },
     "execution_count": 10,
     "metadata": {
      "tags": []
     },
     "output_type": "execute_result"
    }
   ],
   "source": [
    "df_genome_scores.head()"
   ]
  },
  {
   "cell_type": "code",
   "execution_count": 11,
   "metadata": {
    "colab": {
     "base_uri": "https://localhost:8080/",
     "height": 204
    },
    "executionInfo": {
     "elapsed": 67,
     "status": "ok",
     "timestamp": 1626076933717,
     "user": {
      "displayName": "Phoo Ngone Linn",
      "photoUrl": "",
      "userId": "08553023850270904612"
     },
     "user_tz": -390
    },
    "id": "aiHVAUjvnqTU",
    "outputId": "eafccfc6-81bd-472c-b785-8d75334d1028"
   },
   "outputs": [
    {
     "data": {
      "text/html": [
       "<div>\n",
       "<style scoped>\n",
       "    .dataframe tbody tr th:only-of-type {\n",
       "        vertical-align: middle;\n",
       "    }\n",
       "\n",
       "    .dataframe tbody tr th {\n",
       "        vertical-align: top;\n",
       "    }\n",
       "\n",
       "    .dataframe thead th {\n",
       "        text-align: right;\n",
       "    }\n",
       "</style>\n",
       "<table border=\"1\" class=\"dataframe\">\n",
       "  <thead>\n",
       "    <tr style=\"text-align: right;\">\n",
       "      <th></th>\n",
       "      <th>tagId</th>\n",
       "      <th>tag</th>\n",
       "    </tr>\n",
       "  </thead>\n",
       "  <tbody>\n",
       "    <tr>\n",
       "      <th>0</th>\n",
       "      <td>1</td>\n",
       "      <td>007</td>\n",
       "    </tr>\n",
       "    <tr>\n",
       "      <th>1</th>\n",
       "      <td>2</td>\n",
       "      <td>007 (series)</td>\n",
       "    </tr>\n",
       "    <tr>\n",
       "      <th>2</th>\n",
       "      <td>3</td>\n",
       "      <td>18th century</td>\n",
       "    </tr>\n",
       "    <tr>\n",
       "      <th>3</th>\n",
       "      <td>4</td>\n",
       "      <td>1920s</td>\n",
       "    </tr>\n",
       "    <tr>\n",
       "      <th>4</th>\n",
       "      <td>5</td>\n",
       "      <td>1930s</td>\n",
       "    </tr>\n",
       "  </tbody>\n",
       "</table>\n",
       "</div>"
      ],
      "text/plain": [
       "   tagId           tag\n",
       "0      1           007\n",
       "1      2  007 (series)\n",
       "2      3  18th century\n",
       "3      4         1920s\n",
       "4      5         1930s"
      ]
     },
     "execution_count": 11,
     "metadata": {
      "tags": []
     },
     "output_type": "execute_result"
    }
   ],
   "source": [
    "df_genome_tags.head()"
   ]
  },
  {
   "cell_type": "markdown",
   "metadata": {
    "id": "A2L-kLCmmZRq"
   },
   "source": [
    "# Explore Tag Data of Movie 'Matrix'"
   ]
  },
  {
   "cell_type": "code",
   "execution_count": 12,
   "metadata": {
    "executionInfo": {
     "elapsed": 66,
     "status": "ok",
     "timestamp": 1626076933717,
     "user": {
      "displayName": "Phoo Ngone Linn",
      "photoUrl": "",
      "userId": "08553023850270904612"
     },
     "user_tz": -390
    },
    "id": "WcLeEo4DIVRI"
   },
   "outputs": [],
   "source": [
    "matrix_movie = df_movies[df_movies['title'].str.contains('Matrix')]"
   ]
  },
  {
   "cell_type": "code",
   "execution_count": 13,
   "metadata": {
    "colab": {
     "base_uri": "https://localhost:8080/",
     "height": 142
    },
    "executionInfo": {
     "elapsed": 66,
     "status": "ok",
     "timestamp": 1626076933718,
     "user": {
      "displayName": "Phoo Ngone Linn",
      "photoUrl": "",
      "userId": "08553023850270904612"
     },
     "user_tz": -390
    },
    "id": "Rd6SQ4miI3T_",
    "outputId": "7f1fd94e-e6cc-46e2-a685-f5bbc23c7cff"
   },
   "outputs": [
    {
     "data": {
      "text/html": [
       "<div>\n",
       "<style scoped>\n",
       "    .dataframe tbody tr th:only-of-type {\n",
       "        vertical-align: middle;\n",
       "    }\n",
       "\n",
       "    .dataframe tbody tr th {\n",
       "        vertical-align: top;\n",
       "    }\n",
       "\n",
       "    .dataframe thead th {\n",
       "        text-align: right;\n",
       "    }\n",
       "</style>\n",
       "<table border=\"1\" class=\"dataframe\">\n",
       "  <thead>\n",
       "    <tr style=\"text-align: right;\">\n",
       "      <th></th>\n",
       "      <th>movieId</th>\n",
       "      <th>title</th>\n",
       "      <th>genres</th>\n",
       "    </tr>\n",
       "  </thead>\n",
       "  <tbody>\n",
       "    <tr>\n",
       "      <th>2486</th>\n",
       "      <td>2571</td>\n",
       "      <td>Matrix, The (1999)</td>\n",
       "      <td>Action|Sci-Fi|Thriller</td>\n",
       "    </tr>\n",
       "    <tr>\n",
       "      <th>6260</th>\n",
       "      <td>6365</td>\n",
       "      <td>Matrix Reloaded, The (2003)</td>\n",
       "      <td>Action|Adventure|Sci-Fi|Thriller|IMAX</td>\n",
       "    </tr>\n",
       "    <tr>\n",
       "      <th>6822</th>\n",
       "      <td>6934</td>\n",
       "      <td>Matrix Revolutions, The (2003)</td>\n",
       "      <td>Action|Adventure|Sci-Fi|Thriller|IMAX</td>\n",
       "    </tr>\n",
       "  </tbody>\n",
       "</table>\n",
       "</div>"
      ],
      "text/plain": [
       "      movieId  ...                                 genres\n",
       "2486     2571  ...                 Action|Sci-Fi|Thriller\n",
       "6260     6365  ...  Action|Adventure|Sci-Fi|Thriller|IMAX\n",
       "6822     6934  ...  Action|Adventure|Sci-Fi|Thriller|IMAX\n",
       "\n",
       "[3 rows x 3 columns]"
      ]
     },
     "execution_count": 13,
     "metadata": {
      "tags": []
     },
     "output_type": "execute_result"
    }
   ],
   "source": [
    "matrix_movie"
   ]
  },
  {
   "cell_type": "code",
   "execution_count": 14,
   "metadata": {
    "executionInfo": {
     "elapsed": 65,
     "status": "ok",
     "timestamp": 1626076933719,
     "user": {
      "displayName": "Phoo Ngone Linn",
      "photoUrl": "",
      "userId": "08553023850270904612"
     },
     "user_tz": -390
    },
    "id": "6vB5Mp9iI4Xu"
   },
   "outputs": [],
   "source": [
    "matrix_movie_tags = df_tags[df_tags['movieId'] == 2571]"
   ]
  },
  {
   "cell_type": "code",
   "execution_count": 15,
   "metadata": {
    "colab": {
     "base_uri": "https://localhost:8080/",
     "height": 419
    },
    "executionInfo": {
     "elapsed": 68,
     "status": "ok",
     "timestamp": 1626076933722,
     "user": {
      "displayName": "Phoo Ngone Linn",
      "photoUrl": "",
      "userId": "08553023850270904612"
     },
     "user_tz": -390
    },
    "id": "_XSV0On9JSdC",
    "outputId": "e0f0ac1a-a1e2-4eb8-ea5b-b794cab680f9"
   },
   "outputs": [
    {
     "data": {
      "text/html": [
       "<div>\n",
       "<style scoped>\n",
       "    .dataframe tbody tr th:only-of-type {\n",
       "        vertical-align: middle;\n",
       "    }\n",
       "\n",
       "    .dataframe tbody tr th {\n",
       "        vertical-align: top;\n",
       "    }\n",
       "\n",
       "    .dataframe thead th {\n",
       "        text-align: right;\n",
       "    }\n",
       "</style>\n",
       "<table border=\"1\" class=\"dataframe\">\n",
       "  <thead>\n",
       "    <tr style=\"text-align: right;\">\n",
       "      <th></th>\n",
       "      <th>userId</th>\n",
       "      <th>movieId</th>\n",
       "      <th>tag</th>\n",
       "      <th>timestamp</th>\n",
       "    </tr>\n",
       "  </thead>\n",
       "  <tbody>\n",
       "    <tr>\n",
       "      <th>385</th>\n",
       "      <td>342</td>\n",
       "      <td>2571</td>\n",
       "      <td>post-apocalyptic</td>\n",
       "      <td>2012-01-25 17:52:01</td>\n",
       "    </tr>\n",
       "    <tr>\n",
       "      <th>386</th>\n",
       "      <td>342</td>\n",
       "      <td>2571</td>\n",
       "      <td>sci-fi</td>\n",
       "      <td>2012-01-25 17:51:58</td>\n",
       "    </tr>\n",
       "    <tr>\n",
       "      <th>387</th>\n",
       "      <td>342</td>\n",
       "      <td>2571</td>\n",
       "      <td>virtual reality</td>\n",
       "      <td>2012-01-25 17:52:04</td>\n",
       "    </tr>\n",
       "    <tr>\n",
       "      <th>1193</th>\n",
       "      <td>505</td>\n",
       "      <td>2571</td>\n",
       "      <td>post-apocalyptic</td>\n",
       "      <td>2011-03-09 07:17:37</td>\n",
       "    </tr>\n",
       "    <tr>\n",
       "      <th>1194</th>\n",
       "      <td>505</td>\n",
       "      <td>2571</td>\n",
       "      <td>virtual reality</td>\n",
       "      <td>2011-03-09 07:17:33</td>\n",
       "    </tr>\n",
       "    <tr>\n",
       "      <th>...</th>\n",
       "      <td>...</td>\n",
       "      <td>...</td>\n",
       "      <td>...</td>\n",
       "      <td>...</td>\n",
       "    </tr>\n",
       "    <tr>\n",
       "      <th>463932</th>\n",
       "      <td>138233</td>\n",
       "      <td>2571</td>\n",
       "      <td>philosophical</td>\n",
       "      <td>2011-11-23 03:53:55</td>\n",
       "    </tr>\n",
       "    <tr>\n",
       "      <th>463933</th>\n",
       "      <td>138233</td>\n",
       "      <td>2571</td>\n",
       "      <td>virtual reality</td>\n",
       "      <td>2011-11-23 03:54:22</td>\n",
       "    </tr>\n",
       "    <tr>\n",
       "      <th>465064</th>\n",
       "      <td>138414</td>\n",
       "      <td>2571</td>\n",
       "      <td>alternate reality</td>\n",
       "      <td>2013-01-23 21:47:09</td>\n",
       "    </tr>\n",
       "    <tr>\n",
       "      <th>465065</th>\n",
       "      <td>138414</td>\n",
       "      <td>2571</td>\n",
       "      <td>cyberpunk</td>\n",
       "      <td>2013-01-23 21:47:06</td>\n",
       "    </tr>\n",
       "    <tr>\n",
       "      <th>465066</th>\n",
       "      <td>138414</td>\n",
       "      <td>2571</td>\n",
       "      <td>post-apocalyptic</td>\n",
       "      <td>2013-01-23 21:47:03</td>\n",
       "    </tr>\n",
       "  </tbody>\n",
       "</table>\n",
       "<p>1430 rows × 4 columns</p>\n",
       "</div>"
      ],
      "text/plain": [
       "        userId  movieId                tag            timestamp\n",
       "385        342     2571   post-apocalyptic  2012-01-25 17:52:01\n",
       "386        342     2571             sci-fi  2012-01-25 17:51:58\n",
       "387        342     2571    virtual reality  2012-01-25 17:52:04\n",
       "1193       505     2571   post-apocalyptic  2011-03-09 07:17:37\n",
       "1194       505     2571    virtual reality  2011-03-09 07:17:33\n",
       "...        ...      ...                ...                  ...\n",
       "463932  138233     2571      philosophical  2011-11-23 03:53:55\n",
       "463933  138233     2571    virtual reality  2011-11-23 03:54:22\n",
       "465064  138414     2571  alternate reality  2013-01-23 21:47:09\n",
       "465065  138414     2571          cyberpunk  2013-01-23 21:47:06\n",
       "465066  138414     2571   post-apocalyptic  2013-01-23 21:47:03\n",
       "\n",
       "[1430 rows x 4 columns]"
      ]
     },
     "execution_count": 15,
     "metadata": {
      "tags": []
     },
     "output_type": "execute_result"
    }
   ],
   "source": [
    "matrix_movie_tags"
   ]
  },
  {
   "cell_type": "markdown",
   "metadata": {
    "id": "VOWrllZOmq2b"
   },
   "source": [
    "df_tags is not usable at the moment with simple vectorization. So, we want to use genome scores instead. We only want relevance larger than 0.9"
   ]
  },
  {
   "cell_type": "markdown",
   "metadata": {
    "id": "hbw8qzvV989m"
   },
   "source": [
    "Check the relevance score of tags for movieId 4226 **Movie Title - Memento**"
   ]
  },
  {
   "cell_type": "code",
   "execution_count": 16,
   "metadata": {
    "colab": {
     "base_uri": "https://localhost:8080/",
     "height": 35
    },
    "executionInfo": {
     "elapsed": 74,
     "status": "ok",
     "timestamp": 1626076934547,
     "user": {
      "displayName": "Phoo Ngone Linn",
      "photoUrl": "",
      "userId": "08553023850270904612"
     },
     "user_tz": -390
    },
    "id": "Y7CHUdfm9pJ_",
    "outputId": "37700f10-7575-4f73-afd1-49273d0a89d6"
   },
   "outputs": [
    {
     "data": {
      "application/vnd.google.colaboratory.intrinsic+json": {
       "type": "string"
      },
      "text/plain": [
       "'Memento (2000)'"
      ]
     },
     "execution_count": 16,
     "metadata": {
      "tags": []
     },
     "output_type": "execute_result"
    }
   ],
   "source": [
    "df_movies[df_movies['movieId'] == 4226]['title'].values[0]"
   ]
  },
  {
   "cell_type": "code",
   "execution_count": 17,
   "metadata": {
    "executionInfo": {
     "elapsed": 73,
     "status": "ok",
     "timestamp": 1626076934548,
     "user": {
      "displayName": "Phoo Ngone Linn",
      "photoUrl": "",
      "userId": "08553023850270904612"
     },
     "user_tz": -390
    },
    "id": "o72CchN-JTet"
   },
   "outputs": [],
   "source": [
    "matrix_movie_tags_genome = df_genome_scores[df_genome_scores['movieId'] == 4226]"
   ]
  },
  {
   "cell_type": "code",
   "execution_count": 18,
   "metadata": {
    "executionInfo": {
     "elapsed": 74,
     "status": "ok",
     "timestamp": 1626076934549,
     "user": {
      "displayName": "Phoo Ngone Linn",
      "photoUrl": "",
      "userId": "08553023850270904612"
     },
     "user_tz": -390
    },
    "id": "u8uKJypdJv4O"
   },
   "outputs": [],
   "source": [
    "matrix_movie_tags_genome = matrix_movie_tags_genome[matrix_movie_tags_genome['relevance'] > 0.7]"
   ]
  },
  {
   "cell_type": "code",
   "execution_count": 19,
   "metadata": {
    "colab": {
     "base_uri": "https://localhost:8080/",
     "height": 419
    },
    "executionInfo": {
     "elapsed": 75,
     "status": "ok",
     "timestamp": 1626076934551,
     "user": {
      "displayName": "Phoo Ngone Linn",
      "photoUrl": "",
      "userId": "08553023850270904612"
     },
     "user_tz": -390
    },
    "id": "guB7pkMQKhfE",
    "outputId": "2a90d622-ea13-4566-e208-c4b4650970b7"
   },
   "outputs": [
    {
     "data": {
      "text/html": [
       "<div>\n",
       "<style scoped>\n",
       "    .dataframe tbody tr th:only-of-type {\n",
       "        vertical-align: middle;\n",
       "    }\n",
       "\n",
       "    .dataframe tbody tr th {\n",
       "        vertical-align: top;\n",
       "    }\n",
       "\n",
       "    .dataframe thead th {\n",
       "        text-align: right;\n",
       "    }\n",
       "</style>\n",
       "<table border=\"1\" class=\"dataframe\">\n",
       "  <thead>\n",
       "    <tr style=\"text-align: right;\">\n",
       "      <th></th>\n",
       "      <th>movieId</th>\n",
       "      <th>tagId</th>\n",
       "      <th>relevance</th>\n",
       "    </tr>\n",
       "  </thead>\n",
       "  <tbody>\n",
       "    <tr>\n",
       "      <th>4215392</th>\n",
       "      <td>4226</td>\n",
       "      <td>57</td>\n",
       "      <td>0.96925</td>\n",
       "    </tr>\n",
       "    <tr>\n",
       "      <th>4215475</th>\n",
       "      <td>4226</td>\n",
       "      <td>140</td>\n",
       "      <td>0.71275</td>\n",
       "    </tr>\n",
       "    <tr>\n",
       "      <th>4215478</th>\n",
       "      <td>4226</td>\n",
       "      <td>143</td>\n",
       "      <td>0.71550</td>\n",
       "    </tr>\n",
       "    <tr>\n",
       "      <th>4215519</th>\n",
       "      <td>4226</td>\n",
       "      <td>184</td>\n",
       "      <td>0.79850</td>\n",
       "    </tr>\n",
       "    <tr>\n",
       "      <th>4215527</th>\n",
       "      <td>4226</td>\n",
       "      <td>192</td>\n",
       "      <td>0.98550</td>\n",
       "    </tr>\n",
       "    <tr>\n",
       "      <th>...</th>\n",
       "      <td>...</td>\n",
       "      <td>...</td>\n",
       "      <td>...</td>\n",
       "    </tr>\n",
       "    <tr>\n",
       "      <th>4216408</th>\n",
       "      <td>4226</td>\n",
       "      <td>1073</td>\n",
       "      <td>0.72200</td>\n",
       "    </tr>\n",
       "    <tr>\n",
       "      <th>4216419</th>\n",
       "      <td>4226</td>\n",
       "      <td>1084</td>\n",
       "      <td>0.77000</td>\n",
       "    </tr>\n",
       "    <tr>\n",
       "      <th>4216426</th>\n",
       "      <td>4226</td>\n",
       "      <td>1091</td>\n",
       "      <td>0.81400</td>\n",
       "    </tr>\n",
       "    <tr>\n",
       "      <th>4216427</th>\n",
       "      <td>4226</td>\n",
       "      <td>1092</td>\n",
       "      <td>0.72050</td>\n",
       "    </tr>\n",
       "    <tr>\n",
       "      <th>4216439</th>\n",
       "      <td>4226</td>\n",
       "      <td>1104</td>\n",
       "      <td>0.83125</td>\n",
       "    </tr>\n",
       "  </tbody>\n",
       "</table>\n",
       "<p>99 rows × 3 columns</p>\n",
       "</div>"
      ],
      "text/plain": [
       "         movieId  tagId  relevance\n",
       "4215392     4226     57    0.96925\n",
       "4215475     4226    140    0.71275\n",
       "4215478     4226    143    0.71550\n",
       "4215519     4226    184    0.79850\n",
       "4215527     4226    192    0.98550\n",
       "...          ...    ...        ...\n",
       "4216408     4226   1073    0.72200\n",
       "4216419     4226   1084    0.77000\n",
       "4216426     4226   1091    0.81400\n",
       "4216427     4226   1092    0.72050\n",
       "4216439     4226   1104    0.83125\n",
       "\n",
       "[99 rows x 3 columns]"
      ]
     },
     "execution_count": 19,
     "metadata": {
      "tags": []
     },
     "output_type": "execute_result"
    }
   ],
   "source": [
    "matrix_movie_tags_genome"
   ]
  },
  {
   "cell_type": "code",
   "execution_count": 20,
   "metadata": {
    "executionInfo": {
     "elapsed": 73,
     "status": "ok",
     "timestamp": 1626076934551,
     "user": {
      "displayName": "Phoo Ngone Linn",
      "photoUrl": "",
      "userId": "08553023850270904612"
     },
     "user_tz": -390
    },
    "id": "EdK8ASboJztZ"
   },
   "outputs": [],
   "source": [
    "matrix_movie_tags_names = matrix_movie_tags_genome.merge(df_genome_tags, how='inner', on='tagId')"
   ]
  },
  {
   "cell_type": "code",
   "execution_count": 21,
   "metadata": {
    "executionInfo": {
     "elapsed": 73,
     "status": "ok",
     "timestamp": 1626076934552,
     "user": {
      "displayName": "Phoo Ngone Linn",
      "photoUrl": "",
      "userId": "08553023850270904612"
     },
     "user_tz": -390
    },
    "id": "WZVXlxjcLxuf"
   },
   "outputs": [],
   "source": [
    "unique_matrix_tags = matrix_movie_tags_names['tag'].unique()"
   ]
  },
  {
   "cell_type": "code",
   "execution_count": 22,
   "metadata": {
    "colab": {
     "base_uri": "https://localhost:8080/"
    },
    "executionInfo": {
     "elapsed": 75,
     "status": "ok",
     "timestamp": 1626076934554,
     "user": {
      "displayName": "Phoo Ngone Linn",
      "photoUrl": "",
      "userId": "08553023850270904612"
     },
     "user_tz": -390
    },
    "id": "-H62zuGEL5dC",
    "outputId": "a2d106a8-3385-47ae-9763-09063e826985"
   },
   "outputs": [
    {
     "data": {
      "text/plain": [
       "array(['amnesia', 'black and white', 'bleak', 'carrie-anne moss',\n",
       "       'cerebral', 'clever', 'complex', 'complicated', 'complicated plot',\n",
       "       'confusing', 'corruption', 'cult film', 'dark', 'dark humor',\n",
       "       'dramatic', 'enigmatic', 'excellent script', 'existentialism',\n",
       "       'flashbacks', 'genius', 'good', 'good acting', 'good soundtrack',\n",
       "       'great acting', 'great ending', 'great movie', 'identity',\n",
       "       'imagination', 'imdb top 250', 'insanity', 'intellectual',\n",
       "       'intelligent', 'intense', 'interesting', 'investigation',\n",
       "       'justice', 'manipulation', 'masterpiece', 'memory', 'memory loss',\n",
       "       'mentor', 'mindfuck', 'moral ambiguity', 'multiple storylines',\n",
       "       'murder', 'murder mystery', 'mystery', 'narrated', 'neo-noir',\n",
       "       'noir thriller', 'non-linear', 'nonlinear', 'obsession',\n",
       "       'original', 'original plot', 'oscar (best directing)',\n",
       "       'oscar (best editing)', 'oscar (best supporting actor)',\n",
       "       'paranoia', 'paranoid', 'philosophical', 'philosophy', 'plot',\n",
       "       'plot holes', 'plot twist', 'police investigation',\n",
       "       'powerful ending', 'psychological', 'psychology', 'reflective',\n",
       "       'revenge', 'secrets', 'short-term memory loss',\n",
       "       'social commentary', 'special', 'story', 'storytelling', 'stylish',\n",
       "       'stylized', 'suprisingly clever', 'surprise ending', 'suspense',\n",
       "       'talky', 'tense', 'thought-provoking', 'thriller', 'time',\n",
       "       'time loop', 'tricky', 'twist', 'twist ending', 'twists & turns',\n",
       "       'unique', 'vengeance', 'very interesting', 'violence',\n",
       "       'visually appealing', 'visually stunning', 'weird'], dtype=object)"
      ]
     },
     "execution_count": 22,
     "metadata": {
      "tags": []
     },
     "output_type": "execute_result"
    }
   ],
   "source": [
    "unique_matrix_tags"
   ]
  },
  {
   "cell_type": "code",
   "execution_count": 23,
   "metadata": {
    "colab": {
     "base_uri": "https://localhost:8080/"
    },
    "executionInfo": {
     "elapsed": 71,
     "status": "ok",
     "timestamp": 1626076934555,
     "user": {
      "displayName": "Phoo Ngone Linn",
      "photoUrl": "",
      "userId": "08553023850270904612"
     },
     "user_tz": -390
    },
    "id": "e6i9jMiVXCEe",
    "outputId": "f584a484-0103-422f-d394-8ab3a9d7fcf2"
   },
   "outputs": [
    {
     "data": {
      "text/plain": [
       "array(['amnesia', 'black and white', 'bleak', 'carrie-anne moss',\n",
       "       'cerebral', 'clever', 'complex', 'complicated', 'complicated plot',\n",
       "       'confusing', 'corruption', 'cult film', 'dark', 'dark humor',\n",
       "       'dramatic', 'enigmatic', 'excellent script', 'existentialism',\n",
       "       'flashbacks', 'genius', 'good', 'good acting', 'good soundtrack',\n",
       "       'great acting', 'great ending', 'great movie', 'identity',\n",
       "       'imagination', 'imdb top 250', 'insanity', 'intellectual',\n",
       "       'intelligent', 'intense', 'interesting', 'investigation',\n",
       "       'justice', 'manipulation', 'masterpiece', 'memory', 'memory loss',\n",
       "       'mentor', 'mindfuck', 'moral ambiguity', 'multiple storylines',\n",
       "       'murder', 'murder mystery', 'mystery', 'narrated', 'neo-noir',\n",
       "       'noir thriller', 'non-linear', 'nonlinear', 'obsession',\n",
       "       'original', 'original plot', 'oscar (best directing)',\n",
       "       'oscar (best editing)', 'oscar (best supporting actor)',\n",
       "       'paranoia', 'paranoid', 'philosophical', 'philosophy', 'plot',\n",
       "       'plot holes', 'plot twist', 'police investigation',\n",
       "       'powerful ending', 'psychological', 'psychology', 'reflective',\n",
       "       'revenge', 'secrets', 'short-term memory loss',\n",
       "       'social commentary', 'special', 'story', 'storytelling', 'stylish',\n",
       "       'stylized', 'suprisingly clever', 'surprise ending', 'suspense',\n",
       "       'talky', 'tense', 'thought-provoking', 'thriller', 'time',\n",
       "       'time loop', 'tricky', 'twist', 'twist ending', 'twists & turns',\n",
       "       'unique', 'vengeance', 'very interesting', 'violence',\n",
       "       'visually appealing', 'visually stunning', 'weird'], dtype=object)"
      ]
     },
     "execution_count": 23,
     "metadata": {
      "tags": []
     },
     "output_type": "execute_result"
    }
   ],
   "source": [
    "unique_matrix_tags"
   ]
  },
  {
   "cell_type": "code",
   "execution_count": 24,
   "metadata": {
    "colab": {
     "base_uri": "https://localhost:8080/",
     "height": 204
    },
    "executionInfo": {
     "elapsed": 69,
     "status": "ok",
     "timestamp": 1626076934558,
     "user": {
      "displayName": "Phoo Ngone Linn",
      "photoUrl": "",
      "userId": "08553023850270904612"
     },
     "user_tz": -390
    },
    "id": "vvI0pvvTM1OG",
    "outputId": "9c62df75-886b-41df-8d15-2433e41ff375"
   },
   "outputs": [
    {
     "data": {
      "text/html": [
       "<div>\n",
       "<style scoped>\n",
       "    .dataframe tbody tr th:only-of-type {\n",
       "        vertical-align: middle;\n",
       "    }\n",
       "\n",
       "    .dataframe tbody tr th {\n",
       "        vertical-align: top;\n",
       "    }\n",
       "\n",
       "    .dataframe thead th {\n",
       "        text-align: right;\n",
       "    }\n",
       "</style>\n",
       "<table border=\"1\" class=\"dataframe\">\n",
       "  <thead>\n",
       "    <tr style=\"text-align: right;\">\n",
       "      <th></th>\n",
       "      <th>movieId</th>\n",
       "      <th>tagId</th>\n",
       "      <th>relevance</th>\n",
       "      <th>tag</th>\n",
       "    </tr>\n",
       "  </thead>\n",
       "  <tbody>\n",
       "    <tr>\n",
       "      <th>0</th>\n",
       "      <td>4226</td>\n",
       "      <td>57</td>\n",
       "      <td>0.96925</td>\n",
       "      <td>amnesia</td>\n",
       "    </tr>\n",
       "    <tr>\n",
       "      <th>1</th>\n",
       "      <td>4226</td>\n",
       "      <td>140</td>\n",
       "      <td>0.71275</td>\n",
       "      <td>black and white</td>\n",
       "    </tr>\n",
       "    <tr>\n",
       "      <th>2</th>\n",
       "      <td>4226</td>\n",
       "      <td>143</td>\n",
       "      <td>0.71550</td>\n",
       "      <td>bleak</td>\n",
       "    </tr>\n",
       "    <tr>\n",
       "      <th>3</th>\n",
       "      <td>4226</td>\n",
       "      <td>184</td>\n",
       "      <td>0.79850</td>\n",
       "      <td>carrie-anne moss</td>\n",
       "    </tr>\n",
       "    <tr>\n",
       "      <th>4</th>\n",
       "      <td>4226</td>\n",
       "      <td>192</td>\n",
       "      <td>0.98550</td>\n",
       "      <td>cerebral</td>\n",
       "    </tr>\n",
       "  </tbody>\n",
       "</table>\n",
       "</div>"
      ],
      "text/plain": [
       "   movieId  tagId  relevance               tag\n",
       "0     4226     57    0.96925           amnesia\n",
       "1     4226    140    0.71275   black and white\n",
       "2     4226    143    0.71550             bleak\n",
       "3     4226    184    0.79850  carrie-anne moss\n",
       "4     4226    192    0.98550          cerebral"
      ]
     },
     "execution_count": 24,
     "metadata": {
      "tags": []
     },
     "output_type": "execute_result"
    }
   ],
   "source": [
    "matrix_movie_tags_names.head()"
   ]
  },
  {
   "cell_type": "code",
   "execution_count": 25,
   "metadata": {
    "colab": {
     "base_uri": "https://localhost:8080/",
     "height": 80
    },
    "executionInfo": {
     "elapsed": 70,
     "status": "ok",
     "timestamp": 1626076934561,
     "user": {
      "displayName": "Phoo Ngone Linn",
      "photoUrl": "",
      "userId": "08553023850270904612"
     },
     "user_tz": -390
    },
    "id": "G75uD_Twl2xv",
    "outputId": "866b5a80-03c7-4d35-d5d9-eef522307ed8"
   },
   "outputs": [
    {
     "data": {
      "text/html": [
       "<div>\n",
       "<style scoped>\n",
       "    .dataframe tbody tr th:only-of-type {\n",
       "        vertical-align: middle;\n",
       "    }\n",
       "\n",
       "    .dataframe tbody tr th {\n",
       "        vertical-align: top;\n",
       "    }\n",
       "\n",
       "    .dataframe thead th {\n",
       "        text-align: right;\n",
       "    }\n",
       "</style>\n",
       "<table border=\"1\" class=\"dataframe\">\n",
       "  <thead>\n",
       "    <tr style=\"text-align: right;\">\n",
       "      <th></th>\n",
       "      <th>movieId</th>\n",
       "      <th>tag</th>\n",
       "    </tr>\n",
       "  </thead>\n",
       "  <tbody>\n",
       "    <tr>\n",
       "      <th>0</th>\n",
       "      <td>4226</td>\n",
       "      <td>amnesia|black and white|bleak|carrie-anne moss...</td>\n",
       "    </tr>\n",
       "  </tbody>\n",
       "</table>\n",
       "</div>"
      ],
      "text/plain": [
       "   movieId                                                tag\n",
       "0     4226  amnesia|black and white|bleak|carrie-anne moss..."
      ]
     },
     "execution_count": 25,
     "metadata": {
      "tags": []
     },
     "output_type": "execute_result"
    }
   ],
   "source": [
    "matrix_movie_tags_names.groupby(['movieId'])['tag'].apply('|'.join).reset_index()"
   ]
  },
  {
   "cell_type": "markdown",
   "metadata": {
    "id": "dpl_2ouNm-F7"
   },
   "source": [
    "Successfully preprocessed data for one movie. Now, going to transform the whole."
   ]
  },
  {
   "cell_type": "code",
   "execution_count": 26,
   "metadata": {
    "colab": {
     "base_uri": "https://localhost:8080/"
    },
    "executionInfo": {
     "elapsed": 77,
     "status": "ok",
     "timestamp": 1626076934571,
     "user": {
      "displayName": "Phoo Ngone Linn",
      "photoUrl": "",
      "userId": "08553023850270904612"
     },
     "user_tz": -390
    },
    "id": "stvEQRU62f7q",
    "outputId": "b3fee724-2504-43f4-8612-6f5ccb320c8b"
   },
   "outputs": [
    {
     "data": {
      "text/plain": [
       "10381"
      ]
     },
     "execution_count": 26,
     "metadata": {
      "tags": []
     },
     "output_type": "execute_result"
    }
   ],
   "source": [
    "len(df_genome_scores['movieId'].unique())"
   ]
  },
  {
   "cell_type": "markdown",
   "metadata": {
    "id": "5B_BVkr3nZ2m"
   },
   "source": [
    "# Preprocess tag data"
   ]
  },
  {
   "cell_type": "code",
   "execution_count": 27,
   "metadata": {
    "executionInfo": {
     "elapsed": 1813,
     "status": "ok",
     "timestamp": 1626076936313,
     "user": {
      "displayName": "Phoo Ngone Linn",
      "photoUrl": "",
      "userId": "08553023850270904612"
     },
     "user_tz": -390
    },
    "id": "Dw_b9k-QmK3H"
   },
   "outputs": [],
   "source": [
    "df_genome_scores_with_tagnames = df_genome_scores.merge(df_genome_tags, how='inner', on='tagId')"
   ]
  },
  {
   "cell_type": "code",
   "execution_count": 28,
   "metadata": {
    "executionInfo": {
     "elapsed": 30,
     "status": "ok",
     "timestamp": 1626076936330,
     "user": {
      "displayName": "Phoo Ngone Linn",
      "photoUrl": "",
      "userId": "08553023850270904612"
     },
     "user_tz": -390
    },
    "id": "3jKAsmvMnePU"
   },
   "outputs": [],
   "source": [
    "df_genome_scores_with_tagnames = df_genome_scores_with_tagnames[df_genome_scores_with_tagnames['relevance'] > 0.7]"
   ]
  },
  {
   "cell_type": "code",
   "execution_count": 29,
   "metadata": {
    "colab": {
     "base_uri": "https://localhost:8080/",
     "height": 419
    },
    "executionInfo": {
     "elapsed": 30,
     "status": "ok",
     "timestamp": 1626076936331,
     "user": {
      "displayName": "Phoo Ngone Linn",
      "photoUrl": "",
      "userId": "08553023850270904612"
     },
     "user_tz": -390
    },
    "id": "IqqB9QjKnmPS",
    "outputId": "69e2ce13-abbc-451e-ae99-5347a13ff9a7"
   },
   "outputs": [
    {
     "data": {
      "text/html": [
       "<div>\n",
       "<style scoped>\n",
       "    .dataframe tbody tr th:only-of-type {\n",
       "        vertical-align: middle;\n",
       "    }\n",
       "\n",
       "    .dataframe tbody tr th {\n",
       "        vertical-align: top;\n",
       "    }\n",
       "\n",
       "    .dataframe thead th {\n",
       "        text-align: right;\n",
       "    }\n",
       "</style>\n",
       "<table border=\"1\" class=\"dataframe\">\n",
       "  <thead>\n",
       "    <tr style=\"text-align: right;\">\n",
       "      <th></th>\n",
       "      <th>movieId</th>\n",
       "      <th>tagId</th>\n",
       "      <th>relevance</th>\n",
       "      <th>tag</th>\n",
       "    </tr>\n",
       "  </thead>\n",
       "  <tbody>\n",
       "    <tr>\n",
       "      <th>9</th>\n",
       "      <td>10</td>\n",
       "      <td>1</td>\n",
       "      <td>0.99975</td>\n",
       "      <td>007</td>\n",
       "    </tr>\n",
       "    <tr>\n",
       "      <th>1342</th>\n",
       "      <td>1517</td>\n",
       "      <td>1</td>\n",
       "      <td>0.75075</td>\n",
       "      <td>007</td>\n",
       "    </tr>\n",
       "    <tr>\n",
       "      <th>1507</th>\n",
       "      <td>1722</td>\n",
       "      <td>1</td>\n",
       "      <td>0.99975</td>\n",
       "      <td>007</td>\n",
       "    </tr>\n",
       "    <tr>\n",
       "      <th>2085</th>\n",
       "      <td>2376</td>\n",
       "      <td>1</td>\n",
       "      <td>0.99975</td>\n",
       "      <td>007</td>\n",
       "    </tr>\n",
       "    <tr>\n",
       "      <th>2615</th>\n",
       "      <td>2947</td>\n",
       "      <td>1</td>\n",
       "      <td>0.99975</td>\n",
       "      <td>007</td>\n",
       "    </tr>\n",
       "    <tr>\n",
       "      <th>...</th>\n",
       "      <td>...</td>\n",
       "      <td>...</td>\n",
       "      <td>...</td>\n",
       "      <td>...</td>\n",
       "    </tr>\n",
       "    <tr>\n",
       "      <th>11709439</th>\n",
       "      <td>109720</td>\n",
       "      <td>1128</td>\n",
       "      <td>0.88850</td>\n",
       "      <td>zombies</td>\n",
       "    </tr>\n",
       "    <tr>\n",
       "      <th>11709501</th>\n",
       "      <td>111663</td>\n",
       "      <td>1128</td>\n",
       "      <td>0.81825</td>\n",
       "      <td>zombies</td>\n",
       "    </tr>\n",
       "    <tr>\n",
       "      <th>11709544</th>\n",
       "      <td>113159</td>\n",
       "      <td>1128</td>\n",
       "      <td>0.82675</td>\n",
       "      <td>zombies</td>\n",
       "    </tr>\n",
       "    <tr>\n",
       "      <th>11709637</th>\n",
       "      <td>116668</td>\n",
       "      <td>1128</td>\n",
       "      <td>0.92850</td>\n",
       "      <td>zombies</td>\n",
       "    </tr>\n",
       "    <tr>\n",
       "      <th>11709741</th>\n",
       "      <td>128542</td>\n",
       "      <td>1128</td>\n",
       "      <td>0.97650</td>\n",
       "      <td>zombies</td>\n",
       "    </tr>\n",
       "  </tbody>\n",
       "</table>\n",
       "<p>183045 rows × 4 columns</p>\n",
       "</div>"
      ],
      "text/plain": [
       "          movieId  tagId  relevance      tag\n",
       "9              10      1    0.99975      007\n",
       "1342         1517      1    0.75075      007\n",
       "1507         1722      1    0.99975      007\n",
       "2085         2376      1    0.99975      007\n",
       "2615         2947      1    0.99975      007\n",
       "...           ...    ...        ...      ...\n",
       "11709439   109720   1128    0.88850  zombies\n",
       "11709501   111663   1128    0.81825  zombies\n",
       "11709544   113159   1128    0.82675  zombies\n",
       "11709637   116668   1128    0.92850  zombies\n",
       "11709741   128542   1128    0.97650  zombies\n",
       "\n",
       "[183045 rows x 4 columns]"
      ]
     },
     "execution_count": 29,
     "metadata": {
      "tags": []
     },
     "output_type": "execute_result"
    }
   ],
   "source": [
    "df_genome_scores_with_tagnames"
   ]
  },
  {
   "cell_type": "code",
   "execution_count": 30,
   "metadata": {
    "executionInfo": {
     "elapsed": 28,
     "status": "ok",
     "timestamp": 1626076936332,
     "user": {
      "displayName": "Phoo Ngone Linn",
      "photoUrl": "",
      "userId": "08553023850270904612"
     },
     "user_tz": -390
    },
    "id": "Ytk0UIbAnn__"
   },
   "outputs": [],
   "source": [
    "df_tagnames_compressed = df_genome_scores_with_tagnames.groupby(['movieId'])['tag'].apply('|'.join).reset_index()"
   ]
  },
  {
   "cell_type": "code",
   "execution_count": 31,
   "metadata": {
    "colab": {
     "base_uri": "https://localhost:8080/",
     "height": 419
    },
    "executionInfo": {
     "elapsed": 27,
     "status": "ok",
     "timestamp": 1626076936332,
     "user": {
      "displayName": "Phoo Ngone Linn",
      "photoUrl": "",
      "userId": "08553023850270904612"
     },
     "user_tz": -390
    },
    "id": "-6KbPHuqn81_",
    "outputId": "37330056-3926-482b-9e83-d5e9e5ccf589"
   },
   "outputs": [
    {
     "data": {
      "text/html": [
       "<div>\n",
       "<style scoped>\n",
       "    .dataframe tbody tr th:only-of-type {\n",
       "        vertical-align: middle;\n",
       "    }\n",
       "\n",
       "    .dataframe tbody tr th {\n",
       "        vertical-align: top;\n",
       "    }\n",
       "\n",
       "    .dataframe thead th {\n",
       "        text-align: right;\n",
       "    }\n",
       "</style>\n",
       "<table border=\"1\" class=\"dataframe\">\n",
       "  <thead>\n",
       "    <tr style=\"text-align: right;\">\n",
       "      <th></th>\n",
       "      <th>movieId</th>\n",
       "      <th>tag</th>\n",
       "    </tr>\n",
       "  </thead>\n",
       "  <tbody>\n",
       "    <tr>\n",
       "      <th>0</th>\n",
       "      <td>1</td>\n",
       "      <td>adventure|animated|animation|cartoon|cgi|child...</td>\n",
       "    </tr>\n",
       "    <tr>\n",
       "      <th>1</th>\n",
       "      <td>2</td>\n",
       "      <td>adventure|animals|big budget|childhood|childre...</td>\n",
       "    </tr>\n",
       "    <tr>\n",
       "      <th>2</th>\n",
       "      <td>3</td>\n",
       "      <td>comedy|good sequel|original|sequel|sequels</td>\n",
       "    </tr>\n",
       "    <tr>\n",
       "      <th>3</th>\n",
       "      <td>4</td>\n",
       "      <td>chick flick|girlie movie|romantic|unlikely fri...</td>\n",
       "    </tr>\n",
       "    <tr>\n",
       "      <th>4</th>\n",
       "      <td>5</td>\n",
       "      <td>comedy|destiny|family|father daughter relation...</td>\n",
       "    </tr>\n",
       "    <tr>\n",
       "      <th>...</th>\n",
       "      <td>...</td>\n",
       "      <td>...</td>\n",
       "    </tr>\n",
       "    <tr>\n",
       "      <th>10337</th>\n",
       "      <td>130578</td>\n",
       "      <td>action|assassin|assassination|good action|real...</td>\n",
       "    </tr>\n",
       "    <tr>\n",
       "      <th>10338</th>\n",
       "      <td>130840</td>\n",
       "      <td>cinematography|creepy|horror|immortality|love ...</td>\n",
       "    </tr>\n",
       "    <tr>\n",
       "      <th>10339</th>\n",
       "      <td>131013</td>\n",
       "      <td>buddy movie|coen bros|comedy|crude humor|foul ...</td>\n",
       "    </tr>\n",
       "    <tr>\n",
       "      <th>10340</th>\n",
       "      <td>131168</td>\n",
       "      <td>betrayal|camp|cinematography|criterion|dramati...</td>\n",
       "    </tr>\n",
       "    <tr>\n",
       "      <th>10341</th>\n",
       "      <td>131170</td>\n",
       "      <td>alone in the world|alternate reality|alternate...</td>\n",
       "    </tr>\n",
       "  </tbody>\n",
       "</table>\n",
       "<p>10342 rows × 2 columns</p>\n",
       "</div>"
      ],
      "text/plain": [
       "       movieId                                                tag\n",
       "0            1  adventure|animated|animation|cartoon|cgi|child...\n",
       "1            2  adventure|animals|big budget|childhood|childre...\n",
       "2            3         comedy|good sequel|original|sequel|sequels\n",
       "3            4  chick flick|girlie movie|romantic|unlikely fri...\n",
       "4            5  comedy|destiny|family|father daughter relation...\n",
       "...        ...                                                ...\n",
       "10337   130578  action|assassin|assassination|good action|real...\n",
       "10338   130840  cinematography|creepy|horror|immortality|love ...\n",
       "10339   131013  buddy movie|coen bros|comedy|crude humor|foul ...\n",
       "10340   131168  betrayal|camp|cinematography|criterion|dramati...\n",
       "10341   131170  alone in the world|alternate reality|alternate...\n",
       "\n",
       "[10342 rows x 2 columns]"
      ]
     },
     "execution_count": 31,
     "metadata": {
      "tags": []
     },
     "output_type": "execute_result"
    }
   ],
   "source": [
    "df_tagnames_compressed"
   ]
  },
  {
   "cell_type": "markdown",
   "metadata": {
    "id": "6VtpnR8xoCCi"
   },
   "source": [
    "Merge with master movie dataframe"
   ]
  },
  {
   "cell_type": "code",
   "execution_count": 32,
   "metadata": {
    "executionInfo": {
     "elapsed": 26,
     "status": "ok",
     "timestamp": 1626076936333,
     "user": {
      "displayName": "Phoo Ngone Linn",
      "photoUrl": "",
      "userId": "08553023850270904612"
     },
     "user_tz": -390
    },
    "id": "T64imv95n-tQ"
   },
   "outputs": [],
   "source": [
    "df_movies_with_tags = df_movies.merge(df_tagnames_compressed, how='left', on='movieId')"
   ]
  },
  {
   "cell_type": "code",
   "execution_count": 33,
   "metadata": {
    "executionInfo": {
     "elapsed": 26,
     "status": "ok",
     "timestamp": 1626076936334,
     "user": {
      "displayName": "Phoo Ngone Linn",
      "photoUrl": "",
      "userId": "08553023850270904612"
     },
     "user_tz": -390
    },
    "id": "HJ-PXH56ob5r"
   },
   "outputs": [],
   "source": [
    "df_movies_with_tags['tag'].fillna('movie', inplace=True)"
   ]
  },
  {
   "cell_type": "code",
   "execution_count": 34,
   "metadata": {
    "colab": {
     "base_uri": "https://localhost:8080/",
     "height": 419
    },
    "executionInfo": {
     "elapsed": 25,
     "status": "ok",
     "timestamp": 1626076936334,
     "user": {
      "displayName": "Phoo Ngone Linn",
      "photoUrl": "",
      "userId": "08553023850270904612"
     },
     "user_tz": -390
    },
    "id": "xL9FylJGodaa",
    "outputId": "6582a0af-c8a1-4929-fc83-d780d07fa70f"
   },
   "outputs": [
    {
     "data": {
      "text/html": [
       "<div>\n",
       "<style scoped>\n",
       "    .dataframe tbody tr th:only-of-type {\n",
       "        vertical-align: middle;\n",
       "    }\n",
       "\n",
       "    .dataframe tbody tr th {\n",
       "        vertical-align: top;\n",
       "    }\n",
       "\n",
       "    .dataframe thead th {\n",
       "        text-align: right;\n",
       "    }\n",
       "</style>\n",
       "<table border=\"1\" class=\"dataframe\">\n",
       "  <thead>\n",
       "    <tr style=\"text-align: right;\">\n",
       "      <th></th>\n",
       "      <th>movieId</th>\n",
       "      <th>title</th>\n",
       "      <th>genres</th>\n",
       "      <th>tag</th>\n",
       "    </tr>\n",
       "  </thead>\n",
       "  <tbody>\n",
       "    <tr>\n",
       "      <th>0</th>\n",
       "      <td>1</td>\n",
       "      <td>Toy Story (1995)</td>\n",
       "      <td>Adventure|Animation|Children|Comedy|Fantasy</td>\n",
       "      <td>adventure|animated|animation|cartoon|cgi|child...</td>\n",
       "    </tr>\n",
       "    <tr>\n",
       "      <th>1</th>\n",
       "      <td>2</td>\n",
       "      <td>Jumanji (1995)</td>\n",
       "      <td>Adventure|Children|Fantasy</td>\n",
       "      <td>adventure|animals|big budget|childhood|childre...</td>\n",
       "    </tr>\n",
       "    <tr>\n",
       "      <th>2</th>\n",
       "      <td>3</td>\n",
       "      <td>Grumpier Old Men (1995)</td>\n",
       "      <td>Comedy|Romance</td>\n",
       "      <td>comedy|good sequel|original|sequel|sequels</td>\n",
       "    </tr>\n",
       "    <tr>\n",
       "      <th>3</th>\n",
       "      <td>4</td>\n",
       "      <td>Waiting to Exhale (1995)</td>\n",
       "      <td>Comedy|Drama|Romance</td>\n",
       "      <td>chick flick|girlie movie|romantic|unlikely fri...</td>\n",
       "    </tr>\n",
       "    <tr>\n",
       "      <th>4</th>\n",
       "      <td>5</td>\n",
       "      <td>Father of the Bride Part II (1995)</td>\n",
       "      <td>Comedy</td>\n",
       "      <td>comedy|destiny|family|father daughter relation...</td>\n",
       "    </tr>\n",
       "    <tr>\n",
       "      <th>...</th>\n",
       "      <td>...</td>\n",
       "      <td>...</td>\n",
       "      <td>...</td>\n",
       "      <td>...</td>\n",
       "    </tr>\n",
       "    <tr>\n",
       "      <th>27273</th>\n",
       "      <td>131254</td>\n",
       "      <td>Kein Bund für's Leben (2007)</td>\n",
       "      <td>Comedy</td>\n",
       "      <td>movie</td>\n",
       "    </tr>\n",
       "    <tr>\n",
       "      <th>27274</th>\n",
       "      <td>131256</td>\n",
       "      <td>Feuer, Eis &amp; Dosenbier (2002)</td>\n",
       "      <td>Comedy</td>\n",
       "      <td>movie</td>\n",
       "    </tr>\n",
       "    <tr>\n",
       "      <th>27275</th>\n",
       "      <td>131258</td>\n",
       "      <td>The Pirates (2014)</td>\n",
       "      <td>Adventure</td>\n",
       "      <td>movie</td>\n",
       "    </tr>\n",
       "    <tr>\n",
       "      <th>27276</th>\n",
       "      <td>131260</td>\n",
       "      <td>Rentun Ruusu (2001)</td>\n",
       "      <td>(no genres listed)</td>\n",
       "      <td>movie</td>\n",
       "    </tr>\n",
       "    <tr>\n",
       "      <th>27277</th>\n",
       "      <td>131262</td>\n",
       "      <td>Innocence (2014)</td>\n",
       "      <td>Adventure|Fantasy|Horror</td>\n",
       "      <td>movie</td>\n",
       "    </tr>\n",
       "  </tbody>\n",
       "</table>\n",
       "<p>27278 rows × 4 columns</p>\n",
       "</div>"
      ],
      "text/plain": [
       "       movieId  ...                                                tag\n",
       "0            1  ...  adventure|animated|animation|cartoon|cgi|child...\n",
       "1            2  ...  adventure|animals|big budget|childhood|childre...\n",
       "2            3  ...         comedy|good sequel|original|sequel|sequels\n",
       "3            4  ...  chick flick|girlie movie|romantic|unlikely fri...\n",
       "4            5  ...  comedy|destiny|family|father daughter relation...\n",
       "...        ...  ...                                                ...\n",
       "27273   131254  ...                                              movie\n",
       "27274   131256  ...                                              movie\n",
       "27275   131258  ...                                              movie\n",
       "27276   131260  ...                                              movie\n",
       "27277   131262  ...                                              movie\n",
       "\n",
       "[27278 rows x 4 columns]"
      ]
     },
     "execution_count": 34,
     "metadata": {
      "tags": []
     },
     "output_type": "execute_result"
    }
   ],
   "source": [
    "df_movies_with_tags"
   ]
  },
  {
   "cell_type": "markdown",
   "metadata": {
    "id": "QDOya8WYomfd"
   },
   "source": [
    "# TF-IDF"
   ]
  },
  {
   "cell_type": "markdown",
   "metadata": {
    "id": "mFlFSffyBQva"
   },
   "source": [
    "The reason using TF-IDF is to understand how importance of the word in the tags by looking at how many times a word appears in a movie tag while paying attention to the same word appears in another movie tag"
   ]
  },
  {
   "cell_type": "code",
   "execution_count": 35,
   "metadata": {
    "executionInfo": {
     "elapsed": 620,
     "status": "ok",
     "timestamp": 1626076936931,
     "user": {
      "displayName": "Phoo Ngone Linn",
      "photoUrl": "",
      "userId": "08553023850270904612"
     },
     "user_tz": -390
    },
    "id": "mLYag-3Topjz"
   },
   "outputs": [],
   "source": [
    "vectorizer = TfidfVectorizer(analyzer='word',ngram_range=(1, 2),min_df=1)\n",
    "x = vectorizer.fit_transform(df_movies_with_tags['genres'] + df_movies_with_tags['tag'])"
   ]
  },
  {
   "cell_type": "code",
   "execution_count": 36,
   "metadata": {
    "colab": {
     "base_uri": "https://localhost:8080/",
     "height": 514
    },
    "executionInfo": {
     "elapsed": 12,
     "status": "ok",
     "timestamp": 1626076936931,
     "user": {
      "displayName": "Phoo Ngone Linn",
      "photoUrl": "",
      "userId": "08553023850270904612"
     },
     "user_tz": -390
    },
    "id": "vBtxF_yECU36",
    "outputId": "a4562113-dbff-4e25-af77-bbda85e9d456"
   },
   "outputs": [
    {
     "data": {
      "text/html": [
       "<div>\n",
       "<style scoped>\n",
       "    .dataframe tbody tr th:only-of-type {\n",
       "        vertical-align: middle;\n",
       "    }\n",
       "\n",
       "    .dataframe tbody tr th {\n",
       "        vertical-align: top;\n",
       "    }\n",
       "\n",
       "    .dataframe thead th {\n",
       "        text-align: right;\n",
       "    }\n",
       "</style>\n",
       "<table border=\"1\" class=\"dataframe\">\n",
       "  <thead>\n",
       "    <tr style=\"text-align: right;\">\n",
       "      <th></th>\n",
       "      <th>TF-IDF</th>\n",
       "    </tr>\n",
       "  </thead>\n",
       "  <tbody>\n",
       "    <tr>\n",
       "      <th>animation</th>\n",
       "      <td>0.221279</td>\n",
       "    </tr>\n",
       "    <tr>\n",
       "      <th>animated</th>\n",
       "      <td>0.216360</td>\n",
       "    </tr>\n",
       "    <tr>\n",
       "      <th>pixar</th>\n",
       "      <td>0.191012</td>\n",
       "    </tr>\n",
       "    <tr>\n",
       "      <th>animated feature</th>\n",
       "      <td>0.166882</td>\n",
       "    </tr>\n",
       "    <tr>\n",
       "      <th>feature</th>\n",
       "      <td>0.166882</td>\n",
       "    </tr>\n",
       "    <tr>\n",
       "      <th>good</th>\n",
       "      <td>0.163223</td>\n",
       "    </tr>\n",
       "    <tr>\n",
       "      <th>disney</th>\n",
       "      <td>0.154697</td>\n",
       "    </tr>\n",
       "    <tr>\n",
       "      <th>technology toys</th>\n",
       "      <td>0.134399</td>\n",
       "    </tr>\n",
       "    <tr>\n",
       "      <th>good whimsical</th>\n",
       "      <td>0.134399</td>\n",
       "    </tr>\n",
       "    <tr>\n",
       "      <th>kids</th>\n",
       "      <td>0.131522</td>\n",
       "    </tr>\n",
       "    <tr>\n",
       "      <th>light nostalgic</th>\n",
       "      <td>0.129219</td>\n",
       "    </tr>\n",
       "    <tr>\n",
       "      <th>winner pixar</th>\n",
       "      <td>0.125544</td>\n",
       "    </tr>\n",
       "    <tr>\n",
       "      <th>feature entertaining</th>\n",
       "      <td>0.125544</td>\n",
       "    </tr>\n",
       "    <tr>\n",
       "      <th>fantasyadventure animated</th>\n",
       "      <td>0.122694</td>\n",
       "    </tr>\n",
       "    <tr>\n",
       "      <th>toys unlikely</th>\n",
       "      <td>0.120365</td>\n",
       "    </tr>\n",
       "  </tbody>\n",
       "</table>\n",
       "</div>"
      ],
      "text/plain": [
       "                             TF-IDF\n",
       "animation                  0.221279\n",
       "animated                   0.216360\n",
       "pixar                      0.191012\n",
       "animated feature           0.166882\n",
       "feature                    0.166882\n",
       "good                       0.163223\n",
       "disney                     0.154697\n",
       "technology toys            0.134399\n",
       "good whimsical             0.134399\n",
       "kids                       0.131522\n",
       "light nostalgic            0.129219\n",
       "winner pixar               0.125544\n",
       "feature entertaining       0.125544\n",
       "fantasyadventure animated  0.122694\n",
       "toys unlikely              0.120365"
      ]
     },
     "execution_count": 36,
     "metadata": {
      "tags": []
     },
     "output_type": "execute_result"
    }
   ],
   "source": [
    "#checkout TF-IDF scores of tags\n",
    "df = pd.DataFrame(x[0].T.todense(), index=vectorizer.get_feature_names(), columns=[\"TF-IDF\"])\n",
    "df = df.sort_values('TF-IDF', ascending=False)\n",
    "df.head(15)"
   ]
  },
  {
   "cell_type": "markdown",
   "metadata": {
    "id": "29kyCw0fEpJw"
   },
   "source": [
    "**Measure of similarity between vectors using Sigmoid Kernel**"
   ]
  },
  {
   "cell_type": "code",
   "execution_count": 37,
   "metadata": {
    "executionInfo": {
     "elapsed": 32961,
     "status": "ok",
     "timestamp": 1626076969884,
     "user": {
      "displayName": "Phoo Ngone Linn",
      "photoUrl": "",
      "userId": "08553023850270904612"
     },
     "user_tz": -390
    },
    "id": "yHrz1gXXo5Lw"
   },
   "outputs": [],
   "source": [
    "tag_genre_model = sigmoid_kernel(x, x)"
   ]
  },
  {
   "cell_type": "code",
   "execution_count": 38,
   "metadata": {
    "colab": {
     "base_uri": "https://localhost:8080/"
    },
    "executionInfo": {
     "elapsed": 561,
     "status": "ok",
     "timestamp": 1626076975706,
     "user": {
      "displayName": "Phoo Ngone Linn",
      "photoUrl": "",
      "userId": "08553023850270904612"
     },
     "user_tz": -390
    },
    "id": "sU9iPgOxEE7k",
    "outputId": "39d5a0ea-de1e-46d6-b1dc-2d29b7c5e693"
   },
   "outputs": [
    {
     "data": {
      "text/plain": [
       "array([[0.76160495, 0.76159605, 0.7615945 , ..., 0.76159416, 0.76159436,\n",
       "        0.7615943 ],\n",
       "       [0.76159605, 0.76160495, 0.76159431, ..., 0.76159416, 0.76159432,\n",
       "        0.76159471],\n",
       "       [0.7615945 , 0.76159431, 0.76160495, ..., 0.76159416, 0.76159416,\n",
       "        0.76159416],\n",
       "       ...,\n",
       "       [0.76159416, 0.76159416, 0.76159416, ..., 0.76160495, 0.76159416,\n",
       "        0.76159416],\n",
       "       [0.76159436, 0.76159432, 0.76159416, ..., 0.76159416, 0.76160495,\n",
       "        0.76159416],\n",
       "       [0.7615943 , 0.76159471, 0.76159416, ..., 0.76159416, 0.76159416,\n",
       "        0.76160495]])"
      ]
     },
     "execution_count": 38,
     "metadata": {
      "tags": []
     },
     "output_type": "execute_result"
    }
   ],
   "source": [
    "tag_genre_model"
   ]
  },
  {
   "cell_type": "code",
   "execution_count": 39,
   "metadata": {
    "executionInfo": {
     "elapsed": 5,
     "status": "ok",
     "timestamp": 1626076977440,
     "user": {
      "displayName": "Phoo Ngone Linn",
      "photoUrl": "",
      "userId": "08553023850270904612"
     },
     "user_tz": -390
    },
    "id": "SbnnQ89BPYaH"
   },
   "outputs": [],
   "source": [
    "#save similarity model as pickle file\n",
    "# pickle.dump(tag_genre_model, open( 'genre_similarity_model.pickle', 'wb'))"
   ]
  },
  {
   "cell_type": "code",
   "execution_count": 40,
   "metadata": {
    "executionInfo": {
     "elapsed": 4,
     "status": "ok",
     "timestamp": 1626076978085,
     "user": {
      "displayName": "Phoo Ngone Linn",
      "photoUrl": "",
      "userId": "08553023850270904612"
     },
     "user_tz": -390
    },
    "id": "x7yfIguvo-CZ"
   },
   "outputs": [],
   "source": [
    "#create dictionary for movieId and Index and vice versa\n",
    "movieId_dict = dict(zip(df_movies_with_tags.movieId, df_movies_with_tags.index))\n",
    "id_movieId_dict = dict(zip(df_movies_with_tags.index, df_movies_with_tags.movieId))\n",
    "\n",
    "def get_similar_movies(movieId, n):\n",
    "  '''\n",
    "  Find similar movies according to movieId and returns similar movieIds and scores\n",
    "\n",
    "  INPUT :\n",
    "  movieId - movieId to calculate similarity scores\n",
    "  n - number of similar movies\n",
    "\n",
    "  OUTPUT :\n",
    "  list(movieId, index) - list of movieId and its corresponding scores\n",
    "  '''\n",
    "  scores = []\n",
    "  scores = list(enumerate(tag_genre_model[movieId_dict[movieId]]))\n",
    "  scores.sort(key=lambda x: x[1], reverse=True)\n",
    "\n",
    "  return list(map(lambda x: (id_movieId_dict[x[0]], x[1]), scores[1: n + 1]))"
   ]
  },
  {
   "cell_type": "code",
   "execution_count": 42,
   "metadata": {
    "executionInfo": {
     "elapsed": 439,
     "status": "ok",
     "timestamp": 1626076996993,
     "user": {
      "displayName": "Phoo Ngone Linn",
      "photoUrl": "",
      "userId": "08553023850270904612"
     },
     "user_tz": -390
    },
    "id": "Xbl-ryQdqJYr"
   },
   "outputs": [],
   "source": [
    "#create dictionary for movieId and title\n",
    "movie_dict = dict(zip(df_movies.movieId, df_movies.title))\n",
    "\n",
    "def get_movie_titles(movieIds):\n",
    "  '''\n",
    "  Get movie titles according to movieIds and return titles\n",
    "\n",
    "  INPUT :\n",
    "  movieIds - movieId lists\n",
    "\n",
    "  OUTPUT :\n",
    "  movie_titles - list of movie titles according to the movieIds\n",
    "  '''\n",
    "  movie_titles = []\n",
    "  for movieId in movieIds:\n",
    "    if movieId in movie_dict:\n",
    "      movie_titles.append(movie_dict[movieId])\n",
    "  return movie_titles"
   ]
  },
  {
   "cell_type": "markdown",
   "metadata": {
    "id": "ai4NyMiIIAoQ"
   },
   "source": [
    "Find similar movie of movieIds - 5349 **Spider-Man (2002)**"
   ]
  },
  {
   "cell_type": "code",
   "execution_count": 43,
   "metadata": {
    "colab": {
     "base_uri": "https://localhost:8080/"
    },
    "executionInfo": {
     "elapsed": 9,
     "status": "ok",
     "timestamp": 1626076998789,
     "user": {
      "displayName": "Phoo Ngone Linn",
      "photoUrl": "",
      "userId": "08553023850270904612"
     },
     "user_tz": -390
    },
    "id": "f9laVPrVsAI7",
    "outputId": "b91ed6c8-f6d9-43ee-b44a-d5980a8415b3"
   },
   "outputs": [
    {
     "data": {
      "text/plain": [
       "['Spider-Man 2 (2004)',\n",
       " 'X-Men (2000)',\n",
       " 'X2: X-Men United (2003)',\n",
       " 'Incredible Hulk, The (2008)',\n",
       " 'Thor (2011)',\n",
       " 'X-Men: First Class (2011)',\n",
       " 'Hulk (2003)',\n",
       " 'X-Men Origins: Wolverine (2009)',\n",
       " 'Amazing Spider-Man, The (2012)',\n",
       " 'Iron Man (2008)']"
      ]
     },
     "execution_count": 43,
     "metadata": {
      "tags": []
     },
     "output_type": "execute_result"
    }
   ],
   "source": [
    "movie_ids, similarity = list(zip(*get_similar_movies(5349, 10)))\n",
    "get_movie_titles(movie_ids)"
   ]
  },
  {
   "cell_type": "markdown",
   "metadata": {
    "id": "c7rzDlX0INx_"
   },
   "source": [
    "**Just for a quick search of movies**"
   ]
  },
  {
   "cell_type": "code",
   "execution_count": 44,
   "metadata": {
    "colab": {
     "base_uri": "https://localhost:8080/",
     "height": 855
    },
    "executionInfo": {
     "elapsed": 14,
     "status": "ok",
     "timestamp": 1626076999370,
     "user": {
      "displayName": "Phoo Ngone Linn",
      "photoUrl": "",
      "userId": "08553023850270904612"
     },
     "user_tz": -390
    },
    "id": "5wILunErx-oJ",
    "outputId": "c11fdfa7-32f9-4c39-bc24-c24644378e5d"
   },
   "outputs": [
    {
     "data": {
      "text/html": [
       "<div>\n",
       "<style scoped>\n",
       "    .dataframe tbody tr th:only-of-type {\n",
       "        vertical-align: middle;\n",
       "    }\n",
       "\n",
       "    .dataframe tbody tr th {\n",
       "        vertical-align: top;\n",
       "    }\n",
       "\n",
       "    .dataframe thead th {\n",
       "        text-align: right;\n",
       "    }\n",
       "</style>\n",
       "<table border=\"1\" class=\"dataframe\">\n",
       "  <thead>\n",
       "    <tr style=\"text-align: right;\">\n",
       "      <th></th>\n",
       "      <th>movieId</th>\n",
       "      <th>title</th>\n",
       "      <th>genres</th>\n",
       "    </tr>\n",
       "  </thead>\n",
       "  <tbody>\n",
       "    <tr>\n",
       "      <th>2737</th>\n",
       "      <td>2823</td>\n",
       "      <td>Spiders Part 1: The Golden Lake, The (Die Spin...</td>\n",
       "      <td>Action|Adventure|Drama</td>\n",
       "    </tr>\n",
       "    <tr>\n",
       "      <th>3957</th>\n",
       "      <td>4051</td>\n",
       "      <td>Horrors of Spider Island (Ein Toter Hing im Ne...</td>\n",
       "      <td>Horror|Sci-Fi</td>\n",
       "    </tr>\n",
       "    <tr>\n",
       "      <th>4144</th>\n",
       "      <td>4238</td>\n",
       "      <td>Along Came a Spider (2001)</td>\n",
       "      <td>Action|Crime|Mystery|Thriller</td>\n",
       "    </tr>\n",
       "    <tr>\n",
       "      <th>5252</th>\n",
       "      <td>5349</td>\n",
       "      <td>Spider-Man (2002)</td>\n",
       "      <td>Action|Adventure|Sci-Fi|Thriller</td>\n",
       "    </tr>\n",
       "    <tr>\n",
       "      <th>5259</th>\n",
       "      <td>5356</td>\n",
       "      <td>Giant Spider Invasion, The (1975)</td>\n",
       "      <td>Horror|Sci-Fi</td>\n",
       "    </tr>\n",
       "    <tr>\n",
       "      <th>6098</th>\n",
       "      <td>6197</td>\n",
       "      <td>Spider (2002)</td>\n",
       "      <td>Drama|Mystery</td>\n",
       "    </tr>\n",
       "    <tr>\n",
       "      <th>6321</th>\n",
       "      <td>6430</td>\n",
       "      <td>Ziggy Stardust and the Spiders from Mars (1973)</td>\n",
       "      <td>Documentary|Musical</td>\n",
       "    </tr>\n",
       "    <tr>\n",
       "      <th>6676</th>\n",
       "      <td>6786</td>\n",
       "      <td>Kiss of the Spider Woman (1985)</td>\n",
       "      <td>Drama</td>\n",
       "    </tr>\n",
       "    <tr>\n",
       "      <th>6738</th>\n",
       "      <td>6848</td>\n",
       "      <td>Kingdom of the Spiders (1977)</td>\n",
       "      <td>Horror|Sci-Fi</td>\n",
       "    </tr>\n",
       "    <tr>\n",
       "      <th>7953</th>\n",
       "      <td>8636</td>\n",
       "      <td>Spider-Man 2 (2004)</td>\n",
       "      <td>Action|Adventure|Sci-Fi|IMAX</td>\n",
       "    </tr>\n",
       "    <tr>\n",
       "      <th>8626</th>\n",
       "      <td>26125</td>\n",
       "      <td>Spider Baby or, The Maddest Story Ever Told (S...</td>\n",
       "      <td>Comedy|Horror</td>\n",
       "    </tr>\n",
       "    <tr>\n",
       "      <th>11742</th>\n",
       "      <td>52009</td>\n",
       "      <td>Spider's Stratagem, The (Strategia del ragno) ...</td>\n",
       "      <td>Drama|Mystery</td>\n",
       "    </tr>\n",
       "    <tr>\n",
       "      <th>11826</th>\n",
       "      <td>52722</td>\n",
       "      <td>Spider-Man 3 (2007)</td>\n",
       "      <td>Action|Adventure|Sci-Fi|Thriller|IMAX</td>\n",
       "    </tr>\n",
       "    <tr>\n",
       "      <th>12460</th>\n",
       "      <td>58105</td>\n",
       "      <td>Spiderwick Chronicles, The (2008)</td>\n",
       "      <td>Adventure|Children|Drama|Fantasy|IMAX</td>\n",
       "    </tr>\n",
       "    <tr>\n",
       "      <th>15085</th>\n",
       "      <td>76709</td>\n",
       "      <td>Spider-Man: The Ultimate Villain Showdown (2002)</td>\n",
       "      <td>Animation</td>\n",
       "    </tr>\n",
       "    <tr>\n",
       "      <th>15703</th>\n",
       "      <td>79846</td>\n",
       "      <td>Spider Forest (Geomi sup) (2004)</td>\n",
       "      <td>Drama|Horror|Mystery|Thriller</td>\n",
       "    </tr>\n",
       "    <tr>\n",
       "      <th>16781</th>\n",
       "      <td>84836</td>\n",
       "      <td>Spiders, Part 2: The Diamond Ship, The (Die Sp...</td>\n",
       "      <td>Action|Adventure|Drama</td>\n",
       "    </tr>\n",
       "    <tr>\n",
       "      <th>16790</th>\n",
       "      <td>84863</td>\n",
       "      <td>Spider Lilies (Ci qing) (2007)</td>\n",
       "      <td>Drama|Romance</td>\n",
       "    </tr>\n",
       "    <tr>\n",
       "      <th>19204</th>\n",
       "      <td>95510</td>\n",
       "      <td>Amazing Spider-Man, The (2012)</td>\n",
       "      <td>Action|Adventure|Sci-Fi|IMAX</td>\n",
       "    </tr>\n",
       "    <tr>\n",
       "      <th>21910</th>\n",
       "      <td>105772</td>\n",
       "      <td>Earth vs. The Spider (1958)</td>\n",
       "      <td>Horror</td>\n",
       "    </tr>\n",
       "    <tr>\n",
       "      <th>22485</th>\n",
       "      <td>107858</td>\n",
       "      <td>Earth vs. the Spider (2001)</td>\n",
       "      <td>Horror|Sci-Fi|Thriller</td>\n",
       "    </tr>\n",
       "    <tr>\n",
       "      <th>22656</th>\n",
       "      <td>108520</td>\n",
       "      <td>Louise Bourgeois: The Spider, the Mistress and...</td>\n",
       "      <td>Documentary</td>\n",
       "    </tr>\n",
       "    <tr>\n",
       "      <th>23057</th>\n",
       "      <td>109991</td>\n",
       "      <td>Spider (2007)</td>\n",
       "      <td>Action|Drama</td>\n",
       "    </tr>\n",
       "    <tr>\n",
       "      <th>23215</th>\n",
       "      <td>110553</td>\n",
       "      <td>The Amazing Spider-Man 2 (2014)</td>\n",
       "      <td>Action|Sci-Fi|IMAX</td>\n",
       "    </tr>\n",
       "    <tr>\n",
       "      <th>23443</th>\n",
       "      <td>111630</td>\n",
       "      <td>Big Ass Spider! (2013)</td>\n",
       "      <td>Comedy|Sci-Fi</td>\n",
       "    </tr>\n",
       "    <tr>\n",
       "      <th>24057</th>\n",
       "      <td>114093</td>\n",
       "      <td>Camel Spiders (2011)</td>\n",
       "      <td>Horror|Sci-Fi</td>\n",
       "    </tr>\n",
       "  </tbody>\n",
       "</table>\n",
       "</div>"
      ],
      "text/plain": [
       "       movieId  ...                                 genres\n",
       "2737      2823  ...                 Action|Adventure|Drama\n",
       "3957      4051  ...                          Horror|Sci-Fi\n",
       "4144      4238  ...          Action|Crime|Mystery|Thriller\n",
       "5252      5349  ...       Action|Adventure|Sci-Fi|Thriller\n",
       "5259      5356  ...                          Horror|Sci-Fi\n",
       "6098      6197  ...                          Drama|Mystery\n",
       "6321      6430  ...                    Documentary|Musical\n",
       "6676      6786  ...                                  Drama\n",
       "6738      6848  ...                          Horror|Sci-Fi\n",
       "7953      8636  ...           Action|Adventure|Sci-Fi|IMAX\n",
       "8626     26125  ...                          Comedy|Horror\n",
       "11742    52009  ...                          Drama|Mystery\n",
       "11826    52722  ...  Action|Adventure|Sci-Fi|Thriller|IMAX\n",
       "12460    58105  ...  Adventure|Children|Drama|Fantasy|IMAX\n",
       "15085    76709  ...                              Animation\n",
       "15703    79846  ...          Drama|Horror|Mystery|Thriller\n",
       "16781    84836  ...                 Action|Adventure|Drama\n",
       "16790    84863  ...                          Drama|Romance\n",
       "19204    95510  ...           Action|Adventure|Sci-Fi|IMAX\n",
       "21910   105772  ...                                 Horror\n",
       "22485   107858  ...                 Horror|Sci-Fi|Thriller\n",
       "22656   108520  ...                            Documentary\n",
       "23057   109991  ...                           Action|Drama\n",
       "23215   110553  ...                     Action|Sci-Fi|IMAX\n",
       "23443   111630  ...                          Comedy|Sci-Fi\n",
       "24057   114093  ...                          Horror|Sci-Fi\n",
       "\n",
       "[26 rows x 3 columns]"
      ]
     },
     "execution_count": 44,
     "metadata": {
      "tags": []
     },
     "output_type": "execute_result"
    }
   ],
   "source": [
    "df_movies[df_movies['title'].str.contains(\"Spider\")]"
   ]
  },
  {
   "cell_type": "code",
   "execution_count": 45,
   "metadata": {
    "executionInfo": {
     "elapsed": 13,
     "status": "ok",
     "timestamp": 1626076999905,
     "user": {
      "displayName": "Phoo Ngone Linn",
      "photoUrl": "",
      "userId": "08553023850270904612"
     },
     "user_tz": -390
    },
    "id": "EamcjvWnJ5AA"
   },
   "outputs": [],
   "source": [
    "def get_movies(userid):\n",
    "    '''\n",
    "    INPUT:\n",
    "    userid - (int) a user id\n",
    "       \n",
    "    OUTPUT:\n",
    "    movie_ids - set of movie_ids that the user has already watched\n",
    "    \n",
    "    '''\n",
    "    movie_titles = []\n",
    "\n",
    "    movie_ids = set(df_ratings[df_ratings['userId'] == userid].sort_values('rating', ascending = False)['movieId'].tolist())\n",
    "\n",
    "    return movie_ids "
   ]
  },
  {
   "cell_type": "code",
   "execution_count": 46,
   "metadata": {
    "executionInfo": {
     "elapsed": 10,
     "status": "ok",
     "timestamp": 1626076999906,
     "user": {
      "displayName": "Phoo Ngone Linn",
      "photoUrl": "",
      "userId": "08553023850270904612"
     },
     "user_tz": -390
    },
    "id": "Kmo32Qnq_YMv"
   },
   "outputs": [],
   "source": [
    "def recommendation(userid, m=10):\n",
    "    '''\n",
    "    INPUT:\n",
    "    userid - (int) a user id\n",
    "    m - (int) the number of recommendations for user\n",
    "    \n",
    "    OUTPUT:\n",
    "    recommended_movie_titles - list of recommended movie titles\n",
    "    \n",
    "    '''\n",
    "\n",
    "    similar_movies = []\n",
    "\n",
    "    watched_movie_ids = get_movies(userid)\n",
    "    \n",
    "    for movie in watched_movie_ids:\n",
    "      movies = get_similar_movies(movie, 5)\n",
    "      similar_movies.extend(movies)\n",
    "    \n",
    "    similar_movies = sorted(similar_movies, key = lambda x : x[1], reverse = True)\n",
    "    similar_movie_ids, similarity_scores = list(zip(*similar_movies))\n",
    "    similar_movie_ids = [movie for movie in similar_movie_ids if movie not in watched_movie_ids]\n",
    "    similar_movie_ids = set(similar_movie_ids)\n",
    "\n",
    "    return get_movie_titles(list(similar_movie_ids)[:m])\n"
   ]
  },
  {
   "cell_type": "markdown",
   "metadata": {
    "id": "2-0PcKnclnJM"
   },
   "source": [
    "**Validate the movies that the user 138446 has already watched**"
   ]
  },
  {
   "cell_type": "code",
   "execution_count": 47,
   "metadata": {
    "colab": {
     "base_uri": "https://localhost:8080/"
    },
    "executionInfo": {
     "elapsed": 10,
     "status": "ok",
     "timestamp": 1626077000405,
     "user": {
      "displayName": "Phoo Ngone Linn",
      "photoUrl": "",
      "userId": "08553023850270904612"
     },
     "user_tz": -390
    },
    "id": "OqL9APpHVR2o",
    "outputId": "23dcde96-7a74-4bff-92d0-2bc5143ffa9e"
   },
   "outputs": [
    {
     "data": {
      "text/plain": [
       "['Toy Story (1995)',\n",
       " 'Dumbo (1941)',\n",
       " 'Sound of Music, The (1965)',\n",
       " '10 Things I Hate About You (1999)',\n",
       " 'March of the Wooden Soldiers (a.k.a. Babes in Toyland) (1934)',\n",
       " 'Sense and Sensibility (1995)',\n",
       " 'Secret Garden, The (1993)',\n",
       " 'Shop Around the Corner, The (1940)',\n",
       " 'Persuasion (1995)',\n",
       " 'Jungle Book, The (1967)',\n",
       " 'Twelve Monkeys (a.k.a. 12 Monkeys) (1995)',\n",
       " 'Babe (1995)',\n",
       " \"William Shakespeare's Romeo + Juliet (1996)\",\n",
       " 'Fantastic Mr. Fox (2009)',\n",
       " '101 Dalmatians (One Hundred and One Dalmatians) (1961)',\n",
       " \"Kiki's Delivery Service (Majo no takkyûbin) (1989)\",\n",
       " 'Nanny McPhee (2005)',\n",
       " 'Toy Story 2 (1999)',\n",
       " 'Harry Potter and the Deathly Hallows: Part 2 (2011)',\n",
       " 'Basic Instinct (1992)',\n",
       " 'Brady Bunch Movie, The (1995)',\n",
       " 'Captain America: The First Avenger (2011)',\n",
       " 'Aladdin (1992)',\n",
       " 'Silence of the Lambs, The (1991)',\n",
       " 'Beauty and the Beast (1991)',\n",
       " 'Chronicles of Narnia: The Lion, the Witch and the Wardrobe, The (2005)',\n",
       " 'Ice Age (2002)',\n",
       " 'Braveheart (1995)',\n",
       " 'Others, The (2001)',\n",
       " 'Road Warrior, The (Mad Max 2) (1981)',\n",
       " 'Prestige, The (2006)',\n",
       " 'Avengers, The (2012)',\n",
       " 'James and the Giant Peach (1996)',\n",
       " \"Pirates of the Caribbean: Dead Man's Chest (2006)\",\n",
       " 'Megamind (2010)',\n",
       " 'Ghostbusters II (1989)',\n",
       " 'Toy Story 3 (2010)',\n",
       " 'WALL·E (2008)',\n",
       " 'Chicken Run (2000)',\n",
       " 'Young Victoria, The (2009)',\n",
       " 'Harry Potter and the Prisoner of Azkaban (2004)',\n",
       " 'Pride & Prejudice (2005)',\n",
       " 'Ratatouille (2007)',\n",
       " 'Harry Potter and the Chamber of Secrets (2002)',\n",
       " 'Star Wars: Episode VI - Return of the Jedi (1983)',\n",
       " \"Mr. Magorium's Wonder Emporium (2007)\",\n",
       " 'Iron Giant, The (1999)',\n",
       " 'Sixth Sense, The (1999)',\n",
       " 'Shrek (2001)',\n",
       " 'Harry Potter and the Half-Blood Prince (2009)',\n",
       " 'Glory (1989)',\n",
       " 'Graduate, The (1967)',\n",
       " 'Finding Nemo (2003)',\n",
       " 'Big (1988)',\n",
       " 'Harry Potter and the Order of the Phoenix (2007)',\n",
       " 'Hugo (2011)',\n",
       " 'Manchurian Candidate, The (1962)',\n",
       " 'Christmas Story, A (1983)',\n",
       " 'Arsenic and Old Lace (1944)',\n",
       " 'Despicable Me (2010)',\n",
       " 'Iron Man 2 (2010)',\n",
       " 'Incredibles, The (2004)',\n",
       " 'Little Women (1994)',\n",
       " 'Little Princess, A (1995)',\n",
       " 'Star Trek (2009)',\n",
       " 'Koyaanisqatsi (a.k.a. Koyaanisqatsi: Life Out of Balance) (1983)',\n",
       " 'Finding Neverland (2004)',\n",
       " 'Monsters, Inc. (2001)',\n",
       " 'Inception (2010)',\n",
       " 'Love Actually (2003)',\n",
       " \"Harry Potter and the Sorcerer's Stone (a.k.a. Harry Potter and the Philosopher's Stone) (2001)\",\n",
       " 'Pulp Fiction (1994)',\n",
       " \"Bug's Life, A (1998)\",\n",
       " 'Sherlock Holmes (2009)',\n",
       " 'Santa Clause, The (1994)',\n",
       " 'How to Train Your Dragon (2010)',\n",
       " 'Shawshank Redemption, The (1994)',\n",
       " 'Lord of the Rings: The Two Towers, The (2002)',\n",
       " 'Matilda (1996)',\n",
       " 'Emma (1996)',\n",
       " 'Abbott and Costello Meet Frankenstein (1948)',\n",
       " 'Star Trek: Insurrection (1998)',\n",
       " 'Up (2009)',\n",
       " 'Cosmos (1980)',\n",
       " 'Star Trek VI: The Undiscovered Country (1991)',\n",
       " 'Star Trek III: The Search for Spock (1984)',\n",
       " 'Forrest Gump (1994)',\n",
       " 'Catch Me If You Can (2002)',\n",
       " 'Hunger Games, The (2012)',\n",
       " \"Amelie (Fabuleux destin d'Amélie Poulain, Le) (2001)\",\n",
       " 'Emma (2009)',\n",
       " 'Harry Potter and the Goblet of Fire (2005)',\n",
       " 'Royal Tenenbaums, The (2001)',\n",
       " \"Dr. Horrible's Sing-Along Blog (2008)\",\n",
       " 'Lord of the Rings: The Fellowship of the Ring, The (2001)',\n",
       " 'Witches, The (1990)',\n",
       " 'Vertigo (1958)',\n",
       " 'Gaslight (1944)',\n",
       " 'Pirates of the Caribbean: The Curse of the Black Pearl (2003)',\n",
       " 'My Fair Lady (1964)',\n",
       " 'Sherlock Holmes: A Game of Shadows (2011)',\n",
       " 'Meet Me in St. Louis (1944)',\n",
       " 'Fly, The (1986)',\n",
       " 'Citizen Kane (1941)',\n",
       " '2001: A Space Odyssey (1968)',\n",
       " 'Rebecca (1940)',\n",
       " 'Hook (1991)',\n",
       " 'Notorious (1946)',\n",
       " 'Harry Potter and the Deathly Hallows: Part 1 (2010)',\n",
       " 'Iron Man (2008)',\n",
       " \"King's Speech, The (2010)\",\n",
       " 'Tangled (2010)',\n",
       " \"It's a Wonderful Life (1946)\",\n",
       " 'Bringing Up Baby (1938)',\n",
       " 'Battlestar Galactica (2003)',\n",
       " 'Jurassic Park (1993)',\n",
       " 'Big Fish (2003)',\n",
       " 'Lord of the Rings: The Return of the King, The (2003)',\n",
       " 'Little Miss Sunshine (2006)',\n",
       " 'Much Ado About Nothing (1993)',\n",
       " 'Pride and Prejudice (1995)',\n",
       " 'Peter Pan (2003)']"
      ]
     },
     "execution_count": 47,
     "metadata": {
      "tags": []
     },
     "output_type": "execute_result"
    }
   ],
   "source": [
    "sample_movies_138446 = get_movies(138446)\n",
    "get_movie_titles(sample_movies_138446)"
   ]
  },
  {
   "cell_type": "markdown",
   "metadata": {
    "id": "tE-2vA7xl0-g"
   },
   "source": [
    "**List of recommended movies for user 138446**"
   ]
  },
  {
   "cell_type": "code",
   "execution_count": 48,
   "metadata": {
    "colab": {
     "base_uri": "https://localhost:8080/"
    },
    "executionInfo": {
     "elapsed": 3230,
     "status": "ok",
     "timestamp": 1626077004656,
     "user": {
      "displayName": "Phoo Ngone Linn",
      "photoUrl": "",
      "userId": "08553023850270904612"
     },
     "user_tz": -390
    },
    "id": "Z4TeTczVM-7f",
    "outputId": "b4a3dd58-3b6c-4170-99f8-f1a648b2a403"
   },
   "outputs": [
    {
     "data": {
      "text/plain": [
       "['Fighter, The (2010)',\n",
       " 'Balto (1995)',\n",
       " 'Flowers in the Attic (1987)',\n",
       " 'Cutthroat Island (1995)',\n",
       " 'Day of the Jackal, The (1973)',\n",
       " 'Money Train (1995)',\n",
       " 'Copycat (1995)',\n",
       " 'Pan (1995)',\n",
       " 'Othello (1995)',\n",
       " 'Lady and the Tramp (1955)']"
      ]
     },
     "execution_count": 48,
     "metadata": {
      "tags": []
     },
     "output_type": "execute_result"
    }
   ],
   "source": [
    "recommendation(138446)"
   ]
  },
  {
   "cell_type": "markdown",
   "metadata": {
    "id": "tE-2vA7xl0-g"
   },
   "source": [
    "# Evaluation"
   ]
  },
  {
   "cell_type": "code",
   "execution_count": null,
   "metadata": {},
   "outputs": [],
   "source": [
    "df_user_1876 = df_ratings[df_ratings['userId'] == 1876]"
   ]
  },
  {
   "cell_type": "code",
   "execution_count": null,
   "metadata": {},
   "outputs": [],
   "source": [
    "liked_movies = df_user_1876[df_user_1876['rating'] >= 3.5].merge(df_movies, how='left', on='movieId')"
   ]
  },
  {
   "cell_type": "code",
   "execution_count": null,
   "metadata": {},
   "outputs": [],
   "source": [
    "disliked_movies = df_user_1876[df_user_1876['rating'] < 3.5].merge(df_movies, how='left', on='movieId')"
   ]
  },
  {
   "cell_type": "markdown",
   "metadata": {},
   "source": [
    "## We will calculate Precision, Recall and F\n",
    "Positive = Liked Movies\n",
    "Negative = Disliked Movies\n",
    "\n",
    "Since we can only predict 'recommended movies'\n",
    "\n",
    "True Positive =  liked movies in recommended movies\n",
    "\n",
    "False Positive = Disliked movies in Recommended movies\n",
    "\n",
    "False Negative = liked movies not in recommend movies\n",
    "\n",
    "True Negative = disliked movies not in recommend movies"
   ]
  },
  {
   "cell_type": "code",
   "execution_count": null,
   "metadata": {},
   "outputs": [],
   "source": [
    "liked_movie_ids = liked_movies['movieId'].tolist()\n",
    "disliked_movie_ids = disliked_movies['movieId'].tolist()\n",
    "\n",
    "def evaluate(first_n_of_liked_movies, top_n_similar):\n",
    "    first_n_likes = liked_movies[:first_n_of_liked_movies]['movieId'].tolist()\n",
    "    \n",
    "    recommended_movies = []\n",
    "    for id in first_n_likes:\n",
    "        recommended_movies.extend(get_similar_movies(id, top_n_similar))\n",
    "    \n",
    "    recommended_movie_ids, _ = list(zip(*recommended_movies))\n",
    "    recommended_movie_ids = list(set(recommended_movie_ids))\n",
    "    print(len(recommended_movie_ids))\n",
    "\n",
    "    true_positive = len([movieId for movieId in liked_movie_ids if movieId in recommended_movie_ids])\n",
    "    false_positive = len([movieId for movieId in disliked_movie_ids if movieId in recommended_movie_ids])\n",
    "    false_negative = len([movieId for movieId in liked_movie_ids if movieId not in recommended_movie_ids])\n",
    "    true_negative = len([movieId for movieId in disliked_movie_ids if movieId not in recommended_movie_ids])\n",
    "\n",
    "    precision = true_positive / (true_positive + false_positive)\n",
    "    recall = true_positive / (true_positive + false_negative)\n",
    "    f1_score = (2 * precision * recall) / (precision + recall)\n",
    "\n",
    "    return precision, recall, f1_score"
   ]
  },
  {
   "cell_type": "code",
   "execution_count": null,
   "metadata": {},
   "outputs": [],
   "source": [
    "evaluate(80, 10)"
   ]
  }
 ],
 "metadata": {
  "colab": {
   "collapsed_sections": [],
   "name": "content_based.ipynb",
   "provenance": []
  },
  "kernelspec": {
   "display_name": "Python 3",
   "language": "python",
   "name": "python3"
  },
  "language_info": {
   "codemirror_mode": {
    "name": "ipython",
    "version": 3
   },
   "file_extension": ".py",
   "mimetype": "text/x-python",
   "name": "python",
   "nbconvert_exporter": "python",
   "pygments_lexer": "ipython3",
   "version": "3.8.5"
  }
 },
 "nbformat": 4,
 "nbformat_minor": 1
}
